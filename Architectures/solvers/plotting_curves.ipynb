{
 "cells": [
  {
   "cell_type": "code",
   "execution_count": 57,
   "metadata": {},
   "outputs": [],
   "source": [
    "import pickle\n",
    "import matplotlib.pyplot as plt\n",
    "import numpy as np\n",
    "import torch"
   ]
  },
  {
   "cell_type": "code",
   "execution_count": 147,
   "metadata": {},
   "outputs": [],
   "source": [
    "filename = \"/home/riccardo/Desktop/Experiments/encoder_sup/2_digts/bwe/arch/BT/data_last.p\"\n",
    "output_dir = \"/home/riccardo/Desktop/Experiments/encoder_sup/2_digts/bwe/arch/BT\"\n",
    "n_params = 269432"
   ]
  },
  {
   "cell_type": "code",
   "execution_count": 148,
   "metadata": {},
   "outputs": [],
   "source": [
    "data = pickle.load( open( filename, \"rb\" ) )"
   ]
  },
  {
   "cell_type": "code",
   "execution_count": 149,
   "metadata": {},
   "outputs": [],
   "source": [
    "data['train_front_accuracy'] = [x.item() for x in data['train_front_accuracy']]\n",
    "data['train_back_accuracy'] = [x.item() for x in data['train_back_accuracy']]\n",
    "data['gnrl_front_accuracy'] = [x.item() for x in data['gnrl_front_accuracy']]\n",
    "data['gnrl_back_accuracy'] = [x.item() for x in data['gnrl_back_accuracy']]"
   ]
  },
  {
   "cell_type": "code",
   "execution_count": 150,
   "metadata": {},
   "outputs": [
    {
     "ename": "AttributeError",
     "evalue": "'float' object has no attribute 'item'",
     "output_type": "error",
     "traceback": [
      "\u001b[0;31m---------------------------------------------------------------------------\u001b[0m",
      "\u001b[0;31mAttributeError\u001b[0m                            Traceback (most recent call last)",
      "\u001b[0;32m<ipython-input-150-32a64fe915c2>\u001b[0m in \u001b[0;36m<module>\u001b[0;34m\u001b[0m\n\u001b[0;32m----> 1\u001b[0;31m \u001b[0mdata\u001b[0m\u001b[0;34m[\u001b[0m\u001b[0;34m'gnrl_xy_loss'\u001b[0m\u001b[0;34m]\u001b[0m \u001b[0;34m=\u001b[0m \u001b[0;34m[\u001b[0m\u001b[0mx\u001b[0m\u001b[0;34m.\u001b[0m\u001b[0mitem\u001b[0m\u001b[0;34m(\u001b[0m\u001b[0;34m)\u001b[0m \u001b[0;32mfor\u001b[0m \u001b[0mx\u001b[0m \u001b[0;32min\u001b[0m \u001b[0mdata\u001b[0m\u001b[0;34m[\u001b[0m\u001b[0;34m'gnrl_xy_loss'\u001b[0m\u001b[0;34m]\u001b[0m\u001b[0;34m]\u001b[0m\u001b[0;34m\u001b[0m\u001b[0;34m\u001b[0m\u001b[0m\n\u001b[0m",
      "\u001b[0;32m<ipython-input-150-32a64fe915c2>\u001b[0m in \u001b[0;36m<listcomp>\u001b[0;34m(.0)\u001b[0m\n\u001b[0;32m----> 1\u001b[0;31m \u001b[0mdata\u001b[0m\u001b[0;34m[\u001b[0m\u001b[0;34m'gnrl_xy_loss'\u001b[0m\u001b[0;34m]\u001b[0m \u001b[0;34m=\u001b[0m \u001b[0;34m[\u001b[0m\u001b[0mx\u001b[0m\u001b[0;34m.\u001b[0m\u001b[0mitem\u001b[0m\u001b[0;34m(\u001b[0m\u001b[0;34m)\u001b[0m \u001b[0;32mfor\u001b[0m \u001b[0mx\u001b[0m \u001b[0;32min\u001b[0m \u001b[0mdata\u001b[0m\u001b[0;34m[\u001b[0m\u001b[0;34m'gnrl_xy_loss'\u001b[0m\u001b[0;34m]\u001b[0m\u001b[0;34m]\u001b[0m\u001b[0;34m\u001b[0m\u001b[0;34m\u001b[0m\u001b[0m\n\u001b[0m",
      "\u001b[0;31mAttributeError\u001b[0m: 'float' object has no attribute 'item'"
     ]
    }
   ],
   "source": [
    "data['gnrl_xy_loss'] = [x.item() for x in data['gnrl_xy_loss']]"
   ]
  },
  {
   "cell_type": "code",
   "execution_count": 151,
   "metadata": {},
   "outputs": [
    {
     "ename": "AttributeError",
     "evalue": "'float' object has no attribute 'item'",
     "output_type": "error",
     "traceback": [
      "\u001b[0;31m---------------------------------------------------------------------------\u001b[0m",
      "\u001b[0;31mAttributeError\u001b[0m                            Traceback (most recent call last)",
      "\u001b[0;32m<ipython-input-151-9f85f596d0fb>\u001b[0m in \u001b[0;36m<module>\u001b[0;34m\u001b[0m\n\u001b[0;32m----> 1\u001b[0;31m \u001b[0mdata\u001b[0m\u001b[0;34m[\u001b[0m\u001b[0;34m'gnrl_front_loss'\u001b[0m\u001b[0;34m]\u001b[0m\u001b[0;34m=\u001b[0m \u001b[0;34m[\u001b[0m\u001b[0mx\u001b[0m\u001b[0;34m.\u001b[0m\u001b[0mitem\u001b[0m\u001b[0;34m(\u001b[0m\u001b[0;34m)\u001b[0m \u001b[0;32mfor\u001b[0m \u001b[0mx\u001b[0m \u001b[0;32min\u001b[0m \u001b[0mdata\u001b[0m\u001b[0;34m[\u001b[0m\u001b[0;34m'gnrl_front_loss'\u001b[0m\u001b[0;34m]\u001b[0m\u001b[0;34m]\u001b[0m\u001b[0;34m\u001b[0m\u001b[0;34m\u001b[0m\u001b[0m\n\u001b[0m",
      "\u001b[0;32m<ipython-input-151-9f85f596d0fb>\u001b[0m in \u001b[0;36m<listcomp>\u001b[0;34m(.0)\u001b[0m\n\u001b[0;32m----> 1\u001b[0;31m \u001b[0mdata\u001b[0m\u001b[0;34m[\u001b[0m\u001b[0;34m'gnrl_front_loss'\u001b[0m\u001b[0;34m]\u001b[0m\u001b[0;34m=\u001b[0m \u001b[0;34m[\u001b[0m\u001b[0mx\u001b[0m\u001b[0;34m.\u001b[0m\u001b[0mitem\u001b[0m\u001b[0;34m(\u001b[0m\u001b[0;34m)\u001b[0m \u001b[0;32mfor\u001b[0m \u001b[0mx\u001b[0m \u001b[0;32min\u001b[0m \u001b[0mdata\u001b[0m\u001b[0;34m[\u001b[0m\u001b[0;34m'gnrl_front_loss'\u001b[0m\u001b[0;34m]\u001b[0m\u001b[0;34m]\u001b[0m\u001b[0;34m\u001b[0m\u001b[0;34m\u001b[0m\u001b[0m\n\u001b[0m",
      "\u001b[0;31mAttributeError\u001b[0m: 'float' object has no attribute 'item'"
     ]
    }
   ],
   "source": [
    "data['gnrl_front_loss']= [x.item() for x in data['gnrl_front_loss']]"
   ]
  },
  {
   "cell_type": "code",
   "execution_count": 152,
   "metadata": {},
   "outputs": [
    {
     "ename": "AttributeError",
     "evalue": "'float' object has no attribute 'item'",
     "output_type": "error",
     "traceback": [
      "\u001b[0;31m---------------------------------------------------------------------------\u001b[0m",
      "\u001b[0;31mAttributeError\u001b[0m                            Traceback (most recent call last)",
      "\u001b[0;32m<ipython-input-152-330c57523f70>\u001b[0m in \u001b[0;36m<module>\u001b[0;34m\u001b[0m\n\u001b[0;32m----> 1\u001b[0;31m \u001b[0mdata\u001b[0m\u001b[0;34m[\u001b[0m\u001b[0;34m'gnrl_back_loss'\u001b[0m\u001b[0;34m]\u001b[0m \u001b[0;34m=\u001b[0m \u001b[0;34m[\u001b[0m\u001b[0mx\u001b[0m\u001b[0;34m.\u001b[0m\u001b[0mitem\u001b[0m\u001b[0;34m(\u001b[0m\u001b[0;34m)\u001b[0m \u001b[0;32mfor\u001b[0m \u001b[0mx\u001b[0m \u001b[0;32min\u001b[0m \u001b[0mdata\u001b[0m\u001b[0;34m[\u001b[0m\u001b[0;34m'gnrl_back_loss'\u001b[0m\u001b[0;34m]\u001b[0m\u001b[0;34m]\u001b[0m\u001b[0;34m\u001b[0m\u001b[0;34m\u001b[0m\u001b[0m\n\u001b[0m",
      "\u001b[0;32m<ipython-input-152-330c57523f70>\u001b[0m in \u001b[0;36m<listcomp>\u001b[0;34m(.0)\u001b[0m\n\u001b[0;32m----> 1\u001b[0;31m \u001b[0mdata\u001b[0m\u001b[0;34m[\u001b[0m\u001b[0;34m'gnrl_back_loss'\u001b[0m\u001b[0;34m]\u001b[0m \u001b[0;34m=\u001b[0m \u001b[0;34m[\u001b[0m\u001b[0mx\u001b[0m\u001b[0;34m.\u001b[0m\u001b[0mitem\u001b[0m\u001b[0;34m(\u001b[0m\u001b[0;34m)\u001b[0m \u001b[0;32mfor\u001b[0m \u001b[0mx\u001b[0m \u001b[0;32min\u001b[0m \u001b[0mdata\u001b[0m\u001b[0;34m[\u001b[0m\u001b[0;34m'gnrl_back_loss'\u001b[0m\u001b[0;34m]\u001b[0m\u001b[0;34m]\u001b[0m\u001b[0;34m\u001b[0m\u001b[0;34m\u001b[0m\u001b[0m\n\u001b[0m",
      "\u001b[0;31mAttributeError\u001b[0m: 'float' object has no attribute 'item'"
     ]
    }
   ],
   "source": [
    "data['gnrl_back_loss'] = [x.item() for x in data['gnrl_back_loss']]"
   ]
  },
  {
   "cell_type": "code",
   "execution_count": 77,
   "metadata": {},
   "outputs": [
    {
     "ename": "AttributeError",
     "evalue": "'float' object has no attribute 'item'",
     "output_type": "error",
     "traceback": [
      "\u001b[0;31m---------------------------------------------------------------------------\u001b[0m",
      "\u001b[0;31mAttributeError\u001b[0m                            Traceback (most recent call last)",
      "\u001b[0;32m<ipython-input-77-5fa9e009143b>\u001b[0m in \u001b[0;36m<module>\u001b[0;34m\u001b[0m\n\u001b[1;32m      2\u001b[0m \u001b[0;31m#data['gnrl_back_loss'] = [x.item() for x in data['gnrl_back_loss']]\u001b[0m\u001b[0;34m\u001b[0m\u001b[0;34m\u001b[0m\u001b[0;34m\u001b[0m\u001b[0m\n\u001b[1;32m      3\u001b[0m \u001b[0;31m#data['gnrl_mid_loss'] = [x.item() for x in data['gnrl_mid_loss']]\u001b[0m\u001b[0;34m\u001b[0m\u001b[0;34m\u001b[0m\u001b[0;34m\u001b[0m\u001b[0m\n\u001b[0;32m----> 4\u001b[0;31m \u001b[0mdata\u001b[0m\u001b[0;34m[\u001b[0m\u001b[0;34m'gnrl_front_loss'\u001b[0m\u001b[0;34m]\u001b[0m \u001b[0;34m=\u001b[0m \u001b[0;34m[\u001b[0m\u001b[0mx\u001b[0m\u001b[0;34m.\u001b[0m\u001b[0mitem\u001b[0m\u001b[0;34m(\u001b[0m\u001b[0;34m)\u001b[0m \u001b[0;32mfor\u001b[0m \u001b[0mx\u001b[0m \u001b[0;32min\u001b[0m \u001b[0mdata\u001b[0m\u001b[0;34m[\u001b[0m\u001b[0;34m'gnrl_front_loss'\u001b[0m\u001b[0;34m]\u001b[0m\u001b[0;34m]\u001b[0m\u001b[0;34m\u001b[0m\u001b[0;34m\u001b[0m\u001b[0m\n\u001b[0m\u001b[1;32m      5\u001b[0m \u001b[0mdata\u001b[0m\u001b[0;34m[\u001b[0m\u001b[0;34m'gnrl_xy_loss'\u001b[0m\u001b[0;34m]\u001b[0m \u001b[0;34m=\u001b[0m \u001b[0;34m[\u001b[0m\u001b[0mx\u001b[0m\u001b[0;34m.\u001b[0m\u001b[0mitem\u001b[0m\u001b[0;34m(\u001b[0m\u001b[0;34m)\u001b[0m \u001b[0;32mfor\u001b[0m \u001b[0mx\u001b[0m \u001b[0;32min\u001b[0m \u001b[0mdata\u001b[0m\u001b[0;34m[\u001b[0m\u001b[0;34m'gnrl_xy_loss'\u001b[0m\u001b[0;34m]\u001b[0m\u001b[0;34m]\u001b[0m\u001b[0;34m\u001b[0m\u001b[0;34m\u001b[0m\u001b[0m\n",
      "\u001b[0;32m<ipython-input-77-5fa9e009143b>\u001b[0m in \u001b[0;36m<listcomp>\u001b[0;34m(.0)\u001b[0m\n\u001b[1;32m      2\u001b[0m \u001b[0;31m#data['gnrl_back_loss'] = [x.item() for x in data['gnrl_back_loss']]\u001b[0m\u001b[0;34m\u001b[0m\u001b[0;34m\u001b[0m\u001b[0;34m\u001b[0m\u001b[0m\n\u001b[1;32m      3\u001b[0m \u001b[0;31m#data['gnrl_mid_loss'] = [x.item() for x in data['gnrl_mid_loss']]\u001b[0m\u001b[0;34m\u001b[0m\u001b[0;34m\u001b[0m\u001b[0;34m\u001b[0m\u001b[0m\n\u001b[0;32m----> 4\u001b[0;31m \u001b[0mdata\u001b[0m\u001b[0;34m[\u001b[0m\u001b[0;34m'gnrl_front_loss'\u001b[0m\u001b[0;34m]\u001b[0m \u001b[0;34m=\u001b[0m \u001b[0;34m[\u001b[0m\u001b[0mx\u001b[0m\u001b[0;34m.\u001b[0m\u001b[0mitem\u001b[0m\u001b[0;34m(\u001b[0m\u001b[0;34m)\u001b[0m \u001b[0;32mfor\u001b[0m \u001b[0mx\u001b[0m \u001b[0;32min\u001b[0m \u001b[0mdata\u001b[0m\u001b[0;34m[\u001b[0m\u001b[0;34m'gnrl_front_loss'\u001b[0m\u001b[0;34m]\u001b[0m\u001b[0;34m]\u001b[0m\u001b[0;34m\u001b[0m\u001b[0;34m\u001b[0m\u001b[0m\n\u001b[0m\u001b[1;32m      5\u001b[0m \u001b[0mdata\u001b[0m\u001b[0;34m[\u001b[0m\u001b[0;34m'gnrl_xy_loss'\u001b[0m\u001b[0;34m]\u001b[0m \u001b[0;34m=\u001b[0m \u001b[0;34m[\u001b[0m\u001b[0mx\u001b[0m\u001b[0;34m.\u001b[0m\u001b[0mitem\u001b[0m\u001b[0;34m(\u001b[0m\u001b[0;34m)\u001b[0m \u001b[0;32mfor\u001b[0m \u001b[0mx\u001b[0m \u001b[0;32min\u001b[0m \u001b[0mdata\u001b[0m\u001b[0;34m[\u001b[0m\u001b[0;34m'gnrl_xy_loss'\u001b[0m\u001b[0;34m]\u001b[0m\u001b[0;34m]\u001b[0m\u001b[0;34m\u001b[0m\u001b[0;34m\u001b[0m\u001b[0m\n",
      "\u001b[0;31mAttributeError\u001b[0m: 'float' object has no attribute 'item'"
     ]
    }
   ],
   "source": [
    "#data['gnrl_last_iter_loss'] = [x.item() for x in data['gnrl_last_iter_loss']]\n",
    "#data['gnrl_back_loss'] = [x.item() for x in data['gnrl_back_loss']]\n",
    "#data['gnrl_mid_loss'] = [x.item() for x in data['gnrl_mid_loss']]\n",
    "#data['gnrl_front_loss'] = [x.item() for x in data['gnrl_front_loss']]\n",
    "#data['gnrl_xy_loss'] = [x.item() for x in data['gnrl_xy_loss']]"
   ]
  },
  {
   "cell_type": "code",
   "execution_count": 142,
   "metadata": {},
   "outputs": [
    {
     "ename": "KeyError",
     "evalue": "'train_last_iter_loss'",
     "output_type": "error",
     "traceback": [
      "\u001b[0;31m---------------------------------------------------------------------------\u001b[0m",
      "\u001b[0;31mKeyError\u001b[0m                                  Traceback (most recent call last)",
      "\u001b[0;32m<ipython-input-142-41bd0c90f110>\u001b[0m in \u001b[0;36m<module>\u001b[0;34m\u001b[0m\n\u001b[1;32m      4\u001b[0m                 \u001b[0mnp\u001b[0m\u001b[0;34m.\u001b[0m\u001b[0mmean\u001b[0m\u001b[0;34m(\u001b[0m\u001b[0mdata\u001b[0m\u001b[0;34m[\u001b[0m\u001b[0;34m'train_loss'\u001b[0m\u001b[0;34m]\u001b[0m\u001b[0;34m[\u001b[0m\u001b[0;34m-\u001b[0m\u001b[0;36m5\u001b[0m\u001b[0;34m:\u001b[0m\u001b[0;34m]\u001b[0m\u001b[0;34m)\u001b[0m\u001b[0;34m,\u001b[0m\u001b[0;34m\u001b[0m\u001b[0;34m\u001b[0m\u001b[0m\n\u001b[1;32m      5\u001b[0m                 \u001b[0mnp\u001b[0m\u001b[0;34m.\u001b[0m\u001b[0mmean\u001b[0m\u001b[0;34m(\u001b[0m\u001b[0mdata\u001b[0m\u001b[0;34m[\u001b[0m\u001b[0;34m'gnrl_loss'\u001b[0m\u001b[0;34m]\u001b[0m\u001b[0;34m[\u001b[0m\u001b[0;34m-\u001b[0m\u001b[0;36m5\u001b[0m\u001b[0;34m:\u001b[0m\u001b[0;34m]\u001b[0m\u001b[0;34m)\u001b[0m\u001b[0;34m,\u001b[0m\u001b[0;34m\u001b[0m\u001b[0;34m\u001b[0m\u001b[0m\n\u001b[0;32m----> 6\u001b[0;31m                 \u001b[0mnp\u001b[0m\u001b[0;34m.\u001b[0m\u001b[0mmean\u001b[0m\u001b[0;34m(\u001b[0m\u001b[0mdata\u001b[0m\u001b[0;34m[\u001b[0m\u001b[0;34m'train_last_iter_loss'\u001b[0m\u001b[0;34m]\u001b[0m\u001b[0;34m[\u001b[0m\u001b[0;34m-\u001b[0m\u001b[0;36m5\u001b[0m\u001b[0;34m:\u001b[0m\u001b[0;34m]\u001b[0m\u001b[0;34m)\u001b[0m\u001b[0;34m,\u001b[0m\u001b[0;34m\u001b[0m\u001b[0;34m\u001b[0m\u001b[0m\n\u001b[0m\u001b[1;32m      7\u001b[0m                 np.mean(data['gnrl_last_iter_loss'][-5:] ) ), \n\u001b[1;32m      8\u001b[0m                 fontsize=14)\n",
      "\u001b[0;31mKeyError\u001b[0m: 'train_last_iter_loss'"
     ]
    },
    {
     "data": {
      "text/plain": [
       "<Figure size 576x576 with 0 Axes>"
      ]
     },
     "metadata": {},
     "output_type": "display_data"
    }
   ],
   "source": [
    "fig_lc = plt.figure(figsize = (8,8))\n",
    "fig_lc.suptitle('Number of trainable parameters: {}, \\nFinal training loss: {:.3f}, Final gnrl loss: {:.3f}, \\n Last recurrent iter loss: train {:.3f}, gnrl {:.3f}'.format(\n",
    "                   n_params, \n",
    "                np.mean(data['train_loss'][-5:]),\n",
    "                np.mean(data['gnrl_loss'][-5:]),  \n",
    "                np.mean(data['train_last_iter_loss'][-5:]),\n",
    "                np.mean(data['gnrl_last_iter_loss'][-5:] ) ), \n",
    "                fontsize=14)\n",
    "\n",
    "#plt.figure(figsize = (8,8))\n",
    "plt.subplot()\n",
    "plt.plot(data['iter'], data['train_loss'], 'coral', linewidth=2.5, label = \"train loss\")\n",
    "plt.plot(data['iter'], data['gnrl_loss'], 'dodgerblue', linewidth=2, label = \"gnrl  loss\")\n",
    "plt.plot(data['iter'], data['train_last_iter_loss'], 'r', linewidth=2, label = \"train last iter loss\")\n",
    "plt.plot(data['iter'], data['gnrl_last_iter_loss'], 'seagreen', linewidth=2, label = \"gnrl last iter loss\")\n",
    "plt.xlabel(\"iterations\")\n",
    "plt.ylabel(\"loss\")\n",
    "#plt.title(\"losses\")\n",
    "plt.legend()\n",
    "plt.grid(True)\n",
    "plt.savefig('{}/Train_Gnrl_loss_Curves.png'.format(output_dir))\n",
    "plt.close()\n"
   ]
  },
  {
   "cell_type": "code",
   "execution_count": 32,
   "metadata": {},
   "outputs": [
    {
     "ename": "KeyError",
     "evalue": "'train_mid_accuracy'",
     "output_type": "error",
     "traceback": [
      "\u001b[0;31m---------------------------------------------------------------------------\u001b[0m",
      "\u001b[0;31mKeyError\u001b[0m                                  Traceback (most recent call last)",
      "\u001b[0;32m<ipython-input-32-4da1d3ad0c4b>\u001b[0m in \u001b[0;36m<module>\u001b[0;34m\u001b[0m\n\u001b[1;32m      2\u001b[0m fig_lc.suptitle('Number of trainable parameters: {}, \\n Final train accuracy: back: {:.2f}, mid:{:.2f}, front:{:.2f} '.format(\n\u001b[1;32m      3\u001b[0m                    \u001b[0;36m308225\u001b[0m\u001b[0;34m,\u001b[0m \u001b[0mnp\u001b[0m\u001b[0;34m.\u001b[0m\u001b[0mmean\u001b[0m\u001b[0;34m(\u001b[0m\u001b[0mdata\u001b[0m\u001b[0;34m[\u001b[0m\u001b[0;34m'train_back_accuracy'\u001b[0m\u001b[0;34m]\u001b[0m\u001b[0;34m[\u001b[0m\u001b[0;34m-\u001b[0m\u001b[0;36m5\u001b[0m\u001b[0;34m:\u001b[0m\u001b[0;34m]\u001b[0m\u001b[0;34m)\u001b[0m\u001b[0;34m,\u001b[0m\u001b[0;34m\u001b[0m\u001b[0;34m\u001b[0m\u001b[0m\n\u001b[0;32m----> 4\u001b[0;31m                    np.mean(data['train_mid_accuracy'][-5:]), np.mean(data['train_front_accuracy'][-5:])),\n\u001b[0m\u001b[1;32m      5\u001b[0m                    fontsize=14)\n\u001b[1;32m      6\u001b[0m \u001b[0;34m\u001b[0m\u001b[0m\n",
      "\u001b[0;31mKeyError\u001b[0m: 'train_mid_accuracy'"
     ]
    },
    {
     "data": {
      "text/plain": [
       "<Figure size 576x576 with 0 Axes>"
      ]
     },
     "metadata": {},
     "output_type": "display_data"
    }
   ],
   "source": [
    "\n",
    "fig_lc = plt.figure(figsize = (8,8))\n",
    "fig_lc.suptitle('Number of trainable parameters: {}, \\n Final train accuracy: back: {:.2f}, mid:{:.2f}, front:{:.2f} '.format(\n",
    "                   n_params, np.mean(data['train_back_accuracy'][-5:]),\n",
    "                   np.mean(data['train_mid_accuracy'][-5:]), np.mean(data['train_front_accuracy'][-5:])),\n",
    "                   fontsize=14)\n",
    "\n",
    "#plt.figure(figsize = (8,8))\n",
    "plt.subplot()\n",
    "plt.plot(data['iter'], data['train_back_accuracy'], 'coral', linewidth=2.5, label = \"back digit accuracy\")\n",
    "plt.plot(data['iter'], data['train_mid_accuracy'], 'seagreen', linewidth=2.5, label = \"mid digit accuracy\")\n",
    "plt.plot(data['iter'], data['train_front_accuracy'], 'dodgerblue', linewidth=2.5, label = \"front digit accuracy\")\n",
    "plt.xlabel(\"iterations\")\n",
    "plt.ylabel(\"Accuracy\")\n",
    "#plt.title(\"losses\")\n",
    "plt.legend()\n",
    "plt.grid(True)\n",
    "plt.savefig('{}/Train_accuracy_Curves.png'.format(output_dir))\n",
    "plt.close()"
   ]
  },
  {
   "cell_type": "code",
   "execution_count": 80,
   "metadata": {},
   "outputs": [
    {
     "ename": "KeyError",
     "evalue": "'gnrl_mid_accuracy'",
     "output_type": "error",
     "traceback": [
      "\u001b[0;31m---------------------------------------------------------------------------\u001b[0m",
      "\u001b[0;31mKeyError\u001b[0m                                  Traceback (most recent call last)",
      "\u001b[0;32m<ipython-input-80-ec10bd72dff5>\u001b[0m in \u001b[0;36m<module>\u001b[0;34m\u001b[0m\n\u001b[1;32m      2\u001b[0m fig_lc.suptitle('Number of trainable parameters: {}, \\n Final gnrl accuracy: back: {:.2f}, mid:{:.2f}, front:{:.2f} '.format(\n\u001b[1;32m      3\u001b[0m                    \u001b[0;36m308225\u001b[0m\u001b[0;34m,\u001b[0m \u001b[0mnp\u001b[0m\u001b[0;34m.\u001b[0m\u001b[0mmean\u001b[0m\u001b[0;34m(\u001b[0m\u001b[0mdata\u001b[0m\u001b[0;34m[\u001b[0m\u001b[0;34m'gnrl_back_accuracy'\u001b[0m\u001b[0;34m]\u001b[0m\u001b[0;34m[\u001b[0m\u001b[0;34m-\u001b[0m\u001b[0;36m5\u001b[0m\u001b[0;34m:\u001b[0m\u001b[0;34m]\u001b[0m\u001b[0;34m)\u001b[0m\u001b[0;34m,\u001b[0m\u001b[0;34m\u001b[0m\u001b[0;34m\u001b[0m\u001b[0m\n\u001b[0;32m----> 4\u001b[0;31m                    np.mean(data['gnrl_mid_accuracy'][-5:]), np.mean(data['gnrl_front_accuracy'][-5:])),\n\u001b[0m\u001b[1;32m      5\u001b[0m                    fontsize=14)\n\u001b[1;32m      6\u001b[0m \u001b[0;34m\u001b[0m\u001b[0m\n",
      "\u001b[0;31mKeyError\u001b[0m: 'gnrl_mid_accuracy'"
     ]
    },
    {
     "data": {
      "text/plain": [
       "<Figure size 576x576 with 0 Axes>"
      ]
     },
     "metadata": {},
     "output_type": "display_data"
    }
   ],
   "source": [
    "\n",
    "fig_lc = plt.figure(figsize = (8,8))\n",
    "fig_lc.suptitle('Number of trainable parameters: {}, \\n Final gnrl accuracy: back: {:.2f}, mid:{:.2f}, front:{:.2f} '.format(\n",
    "                   n_params, np.mean(data['gnrl_back_accuracy'][-5:]),\n",
    "                   np.mean(data['gnrl_mid_accuracy'][-5:]), np.mean(data['gnrl_front_accuracy'][-5:])),\n",
    "                   fontsize=14)\n",
    "\n",
    "#plt.figure(figsize = (8,8))\n",
    "plt.subplot()\n",
    "plt.plot(data['iter'], data['gnrl_back_accuracy'], 'coral', linewidth=2.5, label = \"back digit accuracy\")\n",
    "plt.plot(data['iter'], data['gnrl_mid_accuracy'], 'seagreen', linewidth=2.5, label = \"mid digit accuracy\")\n",
    "plt.plot(data['iter'], data['gnrl_front_accuracy'], 'dodgerblue', linewidth=2.5, label = \"front digit accuracy\")\n",
    "plt.xlabel(\"iterations\")\n",
    "plt.ylabel(\"Accuracy\")\n",
    "#plt.title(\"losses\")\n",
    "plt.legend()\n",
    "plt.grid(True)\n",
    "plt.savefig('{}/Gnrl_accuracy_Curves.png'.format(output_dir))\n",
    "plt.close()"
   ]
  },
  {
   "cell_type": "code",
   "execution_count": 15,
   "metadata": {},
   "outputs": [],
   "source": [
    "fig_lc = plt.figure(figsize = (8,8))\n",
    "fig_lc.suptitle('Number of trainable parameters: {}, \\n Final train Losses: back: {:.2f}, mid:{:.2f}, front:{:.2f}, xy:{:.2f} '.format(\n",
    "                   n_params, np.mean(data['train_back_loss'][-5:]),\n",
    "                   np.mean(data['train_mid_loss'][-5:]), np.mean(data['train_front_loss'][-5:]) , \n",
    "                    np.mean(data['train_xy_loss'][-5]) ), fontsize=14)\n",
    "\n",
    "#plt.figure(figsize = (8,8))\n",
    "plt.subplot()\n",
    "plt.plot(data['iter'], data['train_back_loss'], 'coral', linewidth=2.5, label = \"back digit loss\")\n",
    "plt.plot(data['iter'], data['train_mid_loss'], 'seagreen', linewidth=2.5, label = \"mid digit loss\")\n",
    "plt.plot(data['iter'], data['train_front_loss'], 'dodgerblue', linewidth=2.5, label = \"front digit loss\")\n",
    "plt.plot(data['iter'], data['train_xy_loss'], 'r', linewidth=2.5, label = \"location loss\")\n",
    "plt.xlabel(\"iterations\")\n",
    "plt.ylabel(\"Loss\")\n",
    "#plt.title(\"losses\")\n",
    "plt.legend()\n",
    "plt.grid(True)\n",
    "plt.savefig('{}/Train_loss_Curves.png'.format(output_dir))\n",
    "plt.close()\n"
   ]
  },
  {
   "cell_type": "code",
   "execution_count": 28,
   "metadata": {},
   "outputs": [],
   "source": [
    "fig_lc = plt.figure(figsize = (8,8))\n",
    "fig_lc.suptitle('Number of trainable parameters: {}, \\n Final Gnrl Losses: back: {:.2f}, mid:{:.2f}, front:{:.2f}, xy:{:.2f} '.format(\n",
    "                   n_params, np.mean(data['gnrl_back_loss'][-5:]),\n",
    "                   np.mean(data['gnrl_mid_loss'][-5:]), np.mean(data['gnrl_front_loss'][-5:]) , \n",
    "                    np.mean(data['gnrl_xy_loss'][-5]) ), fontsize=14)\n",
    "\n",
    "#plt.figure(figsize = (8,8))\n",
    "plt.subplot()\n",
    "plt.plot(data['iter'], data['gnrl_back_loss'], 'coral', linewidth=2.5, label = \"back digit loss\")\n",
    "plt.plot(data['iter'], data['gnrl_mid_loss'], 'seagreen', linewidth=2.5, label = \"mid digit loss\")\n",
    "plt.plot(data['iter'], data['gnrl_front_loss'], 'dodgerblue', linewidth=2.5, label = \"front digit loss\")\n",
    "plt.plot(data['iter'], data['gnrl_xy_loss'], 'r', linewidth=2.5, label = \"location loss\")\n",
    "plt.xlabel(\"iterations\")\n",
    "plt.ylabel(\"Loss\")\n",
    "#plt.title(\"losses\")\n",
    "plt.legend()\n",
    "plt.grid(True)\n",
    "plt.savefig('{}/Gnrl_loss_Curves.png'.format(output_dir))\n",
    "plt.close()\n"
   ]
  },
  {
   "cell_type": "code",
   "execution_count": 56,
   "metadata": {},
   "outputs": [
    {
     "data": {
      "text/plain": [
       "0.0005"
      ]
     },
     "execution_count": 56,
     "metadata": {},
     "output_type": "execute_result"
    }
   ],
   "source": [
    "e = 0.005*0.1**(40/40)\n",
    "e"
   ]
  },
  {
   "cell_type": "code",
   "execution_count": 153,
   "metadata": {},
   "outputs": [],
   "source": [
    "\n",
    "fig_lc = plt.figure(figsize = (8,8))\n",
    "fig_lc.suptitle('Number of trainable parameters: {}, \\n Final train accuracy: back: {:.2f}, front:{:.2f} '.format(\n",
    "                   n_params, np.mean(data['train_back_accuracy'][-5:]), np.mean(data['train_front_accuracy'][-5:])),\n",
    "                   fontsize=14)\n",
    "\n",
    "#plt.figure(figsize = (8,8))\n",
    "plt.subplot()\n",
    "plt.plot(data['iter'], data['train_back_accuracy'], 'coral', linewidth=2.5, label = \"back digit accuracy\")\n",
    "plt.plot(data['iter'], data['train_front_accuracy'], 'dodgerblue', linewidth=2.5, label = \"front digit accuracy\")\n",
    "plt.xlabel(\"iterations\")\n",
    "plt.ylabel(\"Accuracy\")\n",
    "#plt.title(\"losses\")\n",
    "plt.legend()\n",
    "plt.grid(True)\n",
    "plt.savefig('{}/Train_accuracy_Curves.png'.format(output_dir))\n",
    "plt.close()"
   ]
  },
  {
   "cell_type": "code",
   "execution_count": 154,
   "metadata": {},
   "outputs": [],
   "source": [
    "\n",
    "fig_lc = plt.figure(figsize = (8,8))\n",
    "fig_lc.suptitle('Number of trainable parameters: {}, \\n Final gnrl accuracy: back: {:.2f}, front:{:.2f} '.format(\n",
    "                   n_params, np.mean(data['gnrl_back_accuracy'][-5:]), np.mean(data['gnrl_front_accuracy'][-5:])),\n",
    "                   fontsize=14)\n",
    "\n",
    "#plt.figure(figsize = (8,8))\n",
    "plt.subplot()\n",
    "plt.plot(data['iter'], data['gnrl_back_accuracy'], 'coral', linewidth=2.5, label = \"back digit accuracy\")\n",
    "plt.plot(data['iter'], data['gnrl_front_accuracy'], 'dodgerblue', linewidth=2.5, label = \"front digit accuracy\")\n",
    "plt.xlabel(\"iterations\")\n",
    "plt.ylabel(\"Accuracy\")\n",
    "#plt.title(\"losses\")\n",
    "plt.legend()\n",
    "plt.grid(True)\n",
    "plt.savefig('{}/Gnrl_accuracy_Curves.png'.format(output_dir))\n",
    "plt.close()"
   ]
  },
  {
   "cell_type": "code",
   "execution_count": 155,
   "metadata": {},
   "outputs": [],
   "source": [
    "fig_lc = plt.figure(figsize = (8,8))\n",
    "fig_lc.suptitle('Number of trainable parameters: {}, \\n Final train Losses: back: {:.2f},  front:{:.2f}, xy:{:.2f} '.format(\n",
    "                   n_params, np.mean(data['train_back_loss'][-5:]), np.mean(data['train_front_loss'][-5:]) , \n",
    "                    np.mean(data['train_xy_loss'][-5]) ), fontsize=14)\n",
    "\n",
    "#plt.figure(figsize = (8,8))\n",
    "plt.subplot()\n",
    "plt.plot(data['iter'], data['train_back_loss'], 'coral', linewidth=2.5, label = \"back digit loss\")\n",
    "plt.plot(data['iter'], data['train_front_loss'], 'dodgerblue', linewidth=2.5, label = \"front digit loss\")\n",
    "plt.plot(data['iter'], data['train_xy_loss'], 'r', linewidth=2.5, label = \"location loss\")\n",
    "plt.xlabel(\"iterations\")\n",
    "plt.ylabel(\"Loss\")\n",
    "#plt.title(\"losses\")\n",
    "plt.legend()\n",
    "plt.grid(True)\n",
    "plt.savefig('{}/Train_loss_Curves.png'.format(output_dir))\n",
    "plt.close()\n"
   ]
  },
  {
   "cell_type": "code",
   "execution_count": 156,
   "metadata": {},
   "outputs": [],
   "source": [
    "fig_lc = plt.figure(figsize = (8,8))\n",
    "fig_lc.suptitle('Number of trainable parameters: {}, \\n Final Gnrl Losses: back: {:.2f}, front:{:.2f}, xy:{:.2f} '.format(\n",
    "                   n_params, np.mean(data['gnrl_back_loss'][-5:]), np.mean(data['gnrl_front_loss'][-5:]) , \n",
    "                    np.mean(data['gnrl_xy_loss'][-5]) ), fontsize=14)\n",
    "\n",
    "#plt.figure(figsize = (8,8))\n",
    "plt.subplot()\n",
    "plt.plot(data['iter'], data['gnrl_back_loss'], 'coral', linewidth=2.5, label = \"back digit loss\")\n",
    "plt.plot(data['iter'], data['gnrl_front_loss'], 'dodgerblue', linewidth=2.5, label = \"front digit loss\")\n",
    "plt.plot(data['iter'], data['gnrl_xy_loss'], 'r', linewidth=2.5, label = \"location loss\")\n",
    "plt.xlabel(\"iterations\")\n",
    "plt.ylabel(\"Loss\")\n",
    "#plt.title(\"losses\")\n",
    "plt.legend()\n",
    "plt.grid(True)\n",
    "plt.savefig('{}/Gnrl_loss_Curves.png'.format(output_dir))\n",
    "plt.close()\n"
   ]
  },
  {
   "cell_type": "code",
   "execution_count": null,
   "metadata": {},
   "outputs": [],
   "source": []
  }
 ],
 "metadata": {
  "kernelspec": {
   "display_name": "Python 3",
   "language": "python",
   "name": "python3"
  },
  "language_info": {
   "codemirror_mode": {
    "name": "ipython",
    "version": 3
   },
   "file_extension": ".py",
   "mimetype": "text/x-python",
   "name": "python",
   "nbconvert_exporter": "python",
   "pygments_lexer": "ipython3",
   "version": "3.7.3"
  }
 },
 "nbformat": 4,
 "nbformat_minor": 4
}
