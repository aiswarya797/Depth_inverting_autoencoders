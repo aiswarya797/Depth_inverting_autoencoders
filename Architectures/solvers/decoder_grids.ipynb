{
 "cells": [
  {
   "cell_type": "code",
   "execution_count": 1,
   "metadata": {},
   "outputs": [],
   "source": [
    "import torch\n",
    "from torch.utils.data import Dataset, DataLoader\n",
    "\n",
    "import random \n",
    "import matplotlib.pyplot as plt\n",
    "%matplotlib inline \n",
    "\n",
    "random.seed(2019)"
   ]
  },
  {
   "cell_type": "code",
   "execution_count": 2,
   "metadata": {},
   "outputs": [],
   "source": [
    "\n",
    "def create_box(ori_1, ori_2, linear, bw):\n",
    "    if ori_1 == 'v1':\n",
    "        grid = torch.tensor([[0.4,0,0],[0.4,0,0],[0.4,0,0]])\n",
    "    elif ori_1 == 'v2':\n",
    "        grid = torch.tensor([[0,0.4,0],[0,0.4,0],[0,0.4,0]])\n",
    "    elif ori_1 == 'v3':\n",
    "        grid = torch.tensor([[0,0,0.4],[0,0,0.4],[0,0,0.4]])\n",
    "    elif ori_1 == 'd1':\n",
    "        grid = torch.tensor([[0,0,0.4],[0,0.4,0],[0.4,0,0]])\n",
    "    elif ori_1 == 'h1':\n",
    "        grid = torch.tensor([[0.4,0.4,0.4],[0,0,0],[0,0,0]])\n",
    "    elif ori_1 == 'h2':\n",
    "        grid = torch.tensor([[0,0,0],[0.4,0.4,0.4],[0,0,0]])\n",
    "    elif ori_1 == 'h3':\n",
    "        grid = torch.tensor([[0,0,0],[0,0,0],[0.4,0.4,0.4]])\n",
    "    elif ori_1 == 'd2':\n",
    "        grid = torch.tensor([[0.4,0,0],[0,0.4,0],[0,0,0.4]])\n",
    "\n",
    "    if linear == True:\n",
    "        if ori_2 == 'v1':\n",
    "            grid = grid + torch.tensor([[0.6,0,0],[0.6,0,0],[0.6,0,0]])\n",
    "        elif ori_2 == 'v2':\n",
    "            grid = grid + torch.tensor([[0,0.6,0],[0,0.6,0],[0,0.6,0]])\n",
    "        elif ori_2 == 'v3':\n",
    "            grid = grid + torch.tensor([[0,0,0.6],[0,0,0.6],[0,0,0.6]])\n",
    "        elif ori_2 == 'd1':\n",
    "            grid = grid + torch.tensor([[0,0,0.6],[0,0.6,0],[0.6,0,0]])\n",
    "        elif ori_2 == 'h1':\n",
    "            grid = grid + torch.tensor([[0.6,0.6,0.6],[0,0,0],[0,0,0]])\n",
    "        elif ori_2 == 'h2':\n",
    "            grid = grid + torch.tensor([[0,0,0],[0.6,0.6,0.6],[0,0,0]])\n",
    "        elif ori_2 == 'h3':\n",
    "            grid = grid + torch.tensor([[0,0,0],[0,0,0],[0.6,0.6,0.6]])\n",
    "        elif ori_2 == 'd2':\n",
    "            grid = grid + torch.tensor([[0.6,0,0],[0,0.6,0],[0,0,0.6]])\n",
    "\n",
    "    elif linear == False:\n",
    "        if ori_2 == 'v1':\n",
    "            grid = torch.max(grid, torch.tensor([[0.6,0,0],[0.6,0,0],[0.6,0,0]]))\n",
    "        elif ori_2 == 'v2':\n",
    "            grid = torch.max(grid, torch.tensor([[0,0.6,0],[0,0.6,0],[0,0.6,0]]))\n",
    "        elif ori_2 == 'v3':\n",
    "            grid = torch.max(grid, torch.tensor([[0,0,0.6],[0,0,0.6],[0,0,0.6]]))\n",
    "        elif ori_2 == 'd1':\n",
    "            grid = torch.max(grid,torch.torch.tensor([[0,0,0.6],[0,0.6,0],[0.6,0,0]]))\n",
    "        elif ori_2 == 'h1':\n",
    "            grid = torch.max(grid,torch.tensor([[0.6,0.6,0.6],[0,0,0],[0,0,0]]))\n",
    "        elif ori_2 == 'h2':\n",
    "            grid = torch.max(grid,torch.tensor([[0,0,0],[0.6,0.6,0.6],[0,0,0]]))\n",
    "        elif ori_2 == 'h3':\n",
    "            grid = torch.max(grid,torch.tensor([[0,0,0],[0,0,0],[0.6,0.6,0.6]]))\n",
    "        elif ori_2 == 'd2':\n",
    "            grid = torch.max(grid,torch.tensor([[0.6,0,0],[0,0.6,0],[0,0,0.6]]))\n",
    "        \n",
    "    grid= grid.view(1,3,3)\n",
    "    \n",
    "    if bw==False:\n",
    "        grid = grid.view(3, 3, 1).expand(-1, -1, 3)\n",
    "        \n",
    "    return(grid)\n",
    "        \n",
    "        \n",
    "    "
   ]
  },
  {
   "cell_type": "code",
   "execution_count": 3,
   "metadata": {},
   "outputs": [],
   "source": [
    "def ori_to_oneohot(ori):\n",
    "    if ori=='v1':\n",
    "        return(torch.tensor([1,0,0,0,0,0,0,0]).unsqueeze(0))\n",
    "    elif ori=='v2':\n",
    "        return(torch.tensor([0,1,0,0,0,0,0,0]).unsqueeze(0))\n",
    "    elif ori=='v3':\n",
    "        return(torch.tensor([0,0,1,0,0,0,0,0]).unsqueeze(0))\n",
    "    elif ori=='d1':\n",
    "        return(torch.tensor([0,0,0,1,0,0,0,0]).unsqueeze(0))\n",
    "    elif ori=='h1':\n",
    "        return(torch.tensor([0,0,0,0,1,0,0,0]).unsqueeze(0))\n",
    "    elif ori=='h2':\n",
    "        return(torch.tensor([0,0,0,0,0,1,0,0]).unsqueeze(0))\n",
    "    elif ori=='h3':\n",
    "        return(torch.tensor([0,0,0,0,0,0,1,0]).unsqueeze(0))\n",
    "    elif ori=='d2':\n",
    "        return(torch.tensor([0,0,0,0,0,0,0,1]).unsqueeze(0))"
   ]
  },
  {
   "cell_type": "code",
   "execution_count": 4,
   "metadata": {},
   "outputs": [
    {
     "data": {
      "text/plain": [
       "torch.Size([1, 8])"
      ]
     },
     "execution_count": 4,
     "metadata": {},
     "output_type": "execute_result"
    }
   ],
   "source": [
    "ori_to_oneohot('v1').shape"
   ]
  },
  {
   "cell_type": "code",
   "execution_count": 5,
   "metadata": {},
   "outputs": [],
   "source": [
    "class MyDataset_grid(Dataset):\n",
    "    def __init__(self, train_gnrl, n_bars, linear, bw, len_train, len_gnrl):\n",
    "        self.train_gnrl = train_gnrl\n",
    "        self.linear = linear\n",
    "        self.bw = bw\n",
    "        self.n_bars = n_bars\n",
    "        self.len_train = len_train\n",
    "        self.len_gnrl = len_gnrl\n",
    "    def __getitem__(self, index):\n",
    "        \n",
    "        oris_set = ['v1','v2','v3', 'd1', 'h1','h2','h3', 'd2']\n",
    "        pairings = {'v1':'d1', 'd1':'v1','h2':'d2', 'd2':'h2', 'v3':'v2', 'v2':'v3', 'h1':'h3', 'h3':'h1'}\n",
    "        characters = []\n",
    "        if self.train_gnrl == 'train':\n",
    "            for i in range(self.n_bars):\n",
    "                characters.append(random.choices(oris_set, k=1)[0])\n",
    "                oris_set.remove(pairings[characters[i]] )\n",
    "                oris_set.remove(characters[i] )\n",
    "        elif self.train_gnrl == 'gnrl':\n",
    "            for i in range(self.n_bars):\n",
    "                characters.append(random.choices(oris_set, k=1)[0])\n",
    "                if i == 1:\n",
    "                    break\n",
    "                characters.append(pairings[characters[i]] )\n",
    "        \n",
    "        print(characters)\n",
    "        if self.n_bars ==2:\n",
    "            x_sample = torch.cat((ori_to_oneohot(characters[0]), ori_to_oneohot(characters[1])),1)\n",
    "            \n",
    "        y_sample = create_box(characters[0], characters[1], self.linear, self.bw )\n",
    "\n",
    "        sample = {'x':x_sample, 'y':y_sample}\n",
    "        return sample\n",
    "\n",
    "    def __len__(self):\n",
    "        if train_gnrl =='train':\n",
    "            return self.len_train\n",
    "        elif train_gnrl =='gnrl':\n",
    "            return( self.len_gnrl)\n"
   ]
  },
  {
   "cell_type": "code",
   "execution_count": 6,
   "metadata": {},
   "outputs": [],
   "source": [
    "grid_data_train = MyDataset_grid('train', 2, True, True, 100, 100)\n",
    "grid_data_gnrl = MyDataset_grid('gnrl', 2, True, True, 100, 100)\n",
    "\n"
   ]
  },
  {
   "cell_type": "code",
   "execution_count": 7,
   "metadata": {},
   "outputs": [
    {
     "name": "stdout",
     "output_type": "stream",
     "text": [
      "['h3', 'h2']\n",
      "['d2', 'v1']\n",
      "['h2', 'h1']\n",
      "['d2', 'h3']\n",
      "['h3', 'd2']\n",
      "['h3', 'd1']\n",
      "['v3', 'h2']\n",
      "['h3', 'v3']\n",
      "['v1', 'h2']\n",
      "['h2', 'v3']\n"
     ]
    },
    {
     "data": {
      "image/png": "[encoded data removed]",
      "text/plain": [
       "<Figure size 432x288 with 1 Axes>"
      ]
     },
     "metadata": {
      "needs_background": "light"
     },
     "output_type": "display_data"
    },
    {
     "data": {
      "image/png": "[encoded data removed]",
      "text/plain": [
       "<Figure size 432x288 with 1 Axes>"
      ]
     },
     "metadata": {
      "needs_background": "light"
     },
     "output_type": "display_data"
    },
    {
     "data": {
      "image/png": "[encoded data removed]",
      "text/plain": [
       "<Figure size 432x288 with 1 Axes>"
      ]
     },
     "metadata": {
      "needs_background": "light"
     },
     "output_type": "display_data"
    },
    {
     "data": {
      "image/png": "[encoded data removed]",
      "text/plain": [
       "<Figure size 432x288 with 1 Axes>"
      ]
     },
     "metadata": {
      "needs_background": "light"
     },
     "output_type": "display_data"
    },
    {
     "data": {
      "image/png": "[encoded data removed]",
      "text/plain": [
       "<Figure size 432x288 with 1 Axes>"
      ]
     },
     "metadata": {
      "needs_background": "light"
     },
     "output_type": "display_data"
    },
    {
     "data": {
      "image/png": "[encoded data removed]",
      "text/plain": [
       "<Figure size 432x288 with 1 Axes>"
      ]
     },
     "metadata": {
      "needs_background": "light"
     },
     "output_type": "display_data"
    },
    {
     "data": {
      "image/png": "[encoded data removed]",
      "text/plain": [
       "<Figure size 432x288 with 1 Axes>"
      ]
     },
     "metadata": {
      "needs_background": "light"
     },
     "output_type": "display_data"
    },
    {
     "data": {
      "image/png": "[encoded data removed]",
      "text/plain": [
       "<Figure size 432x288 with 1 Axes>"
      ]
     },
     "metadata": {
      "needs_background": "light"
     },
     "output_type": "display_data"
    },
    {
     "data": {
      "image/png": "[encoded data removed]",
      "text/plain": [
       "<Figure size 432x288 with 1 Axes>"
      ]
     },
     "metadata": {
      "needs_background": "light"
     },
     "output_type": "display_data"
    },
    {
     "data": {
      "image/png": "[encoded data removed]",
      "text/plain": [
       "<Figure size 432x288 with 1 Axes>"
      ]
     },
     "metadata": {
      "needs_background": "light"
     },
     "output_type": "display_data"
    }
   ],
   "source": [
    "for i in range (10):\n",
    "    sample = grid_data_train.__getitem__(i)\n",
    "    x= sample['x']\n",
    "    y = sample['y']\n",
    "    plt.figure()\n",
    "    plt.imshow(y[0,:,:])\n"
   ]
  },
  {
   "cell_type": "code",
   "execution_count": null,
   "metadata": {},
   "outputs": [],
   "source": []
  },
  {
   "cell_type": "code",
   "execution_count": null,
   "metadata": {},
   "outputs": [],
   "source": []
  },
  {
   "cell_type": "code",
   "execution_count": null,
   "metadata": {},
   "outputs": [],
   "source": []
  }
 ],
 "metadata": {
  "kernelspec": {
   "display_name": "Python 3",
   "language": "python",
   "name": "python3"
  },
  "language_info": {
   "codemirror_mode": {
    "name": "ipython",
    "version": 3
   },
   "file_extension": ".py",
   "mimetype": "text/x-python",
   "name": "python",
   "nbconvert_exporter": "python",
   "pygments_lexer": "ipython3",
   "version": "3.7.3"
  }
 },
 "nbformat": 4,
 "nbformat_minor": 4
}
