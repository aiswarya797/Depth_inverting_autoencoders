{
 "cells": [
  {
   "cell_type": "code",
   "execution_count": 1,
   "metadata": {},
   "outputs": [
    {
     "name": "stdout",
     "output_type": "stream",
     "text": [
      "Random Seed:  999\n"
     ]
    }
   ],
   "source": [
    "from __future__ import print_function\n",
    "#%matplotlib inline\n",
    "import argparse\n",
    "import os\n",
    "import random\n",
    "import torch\n",
    "import torch.nn as nn\n",
    "import torch.nn.parallel\n",
    "import torch.backends.cudnn as cudnn\n",
    "import torch.optim as optim\n",
    "import torch.utils.data\n",
    "import torchvision.datasets as dset\n",
    "import torchvision.transforms as transforms\n",
    "import torchvision.utils as vutils\n",
    "import numpy as np\n",
    "import matplotlib.pyplot as plt\n",
    "import matplotlib.animation as animation\n",
    "from IPython.display import HTML\n",
    "\n",
    "import sys\n",
    "sys.path.insert(0, '/home/riccardo/Desktop/OcclusionInference/Architectures')\n",
    "from data_loaders.dataset_unsup import MyDataset_unsup\n",
    "\n",
    "\n",
    "# Set random seem for reproducibility\n",
    "manualSeed = 999\n",
    "#manualSeed = random.randint(1, 10000) # use if you want new results\n",
    "print(\"Random Seed: \", manualSeed)\n",
    "random.seed(manualSeed)\n",
    "torch.manual_seed(manualSeed)\n",
    "\n",
    "\n",
    "\n",
    "%matplotlib inline\n",
    "%load_ext autoreload\n",
    "%autoreload 2"
   ]
  },
  {
   "cell_type": "code",
   "execution_count": 2,
   "metadata": {},
   "outputs": [],
   "source": [
    "#Root directory for dataset\n",
    "dataroot = \"/home/riccardo/Desktop/Data/better_100k_bw_ro/digts/\"\n",
    "\n",
    "# Number of workers for dataloader\n",
    "workers = 8\n",
    "\n",
    "# Batch size during training\n",
    "batch_size = 64\n",
    "\n",
    "# Spatial size of training images. All images will be resized to this\n",
    "#   size using a transformer.\n",
    "image_size = 32\n",
    "\n",
    "# Number of channels in the training images. For color images this is 3\n",
    "nc = 1\n",
    "\n",
    "# Size of z latent vector (i.e. size of generator input)\n",
    "nz = 50\n",
    "\n",
    "# Size of feature maps in generator\n",
    "ngf = 32\n",
    "\n",
    "# Size of feature maps in discriminator\n",
    "ndf = 32\n",
    "\n",
    "# Number of training epochs\n",
    "num_epochs = 10\n",
    "\n",
    "# Learning rate for optimizers\n",
    "lr = 0.0005\n",
    "\n",
    "# Beta1 hyperparam for Adam optimizers\n",
    "beta1 = 0.5\n",
    "\n",
    "# Number of GPUs available. Use 0 for CPU mode.\n",
    "ngpu = 1"
   ]
  },
  {
   "cell_type": "code",
   "execution_count": 3,
   "metadata": {},
   "outputs": [
    {
     "name": "stdout",
     "output_type": "stream",
     "text": [
      "Sorting train image files\n"
     ]
    }
   ],
   "source": [
    "train_image_paths = \"{}train/orig/\".format(dataroot)\n",
    "train_target_paths = \"{}train/inverse/\".format(dataroot)\n",
    "train_data_size = len(os.listdir(train_image_paths))\n",
    "train_data = MyDataset_unsup(train_image_paths, train_target_paths, image_size, 'train', train_data_size)\n",
    "\n",
    "dataloader = torch.utils.data.DataLoader(train_data,\n",
    "                              batch_size=batch_size,\n",
    "                              shuffle=False,\n",
    "                              num_workers=workers,\n",
    "                              pin_memory=True,\n",
    "                              drop_last=False)"
   ]
  },
  {
   "cell_type": "code",
   "execution_count": 4,
   "metadata": {},
   "outputs": [
    {
     "data": {
      "text/plain": [
       "<matplotlib.image.AxesImage at 0x7f7afc278cc0>"
      ]
     },
     "execution_count": 4,
     "metadata": {},
     "output_type": "execute_result"
    },
    {
     "data": {
      "image/png": "[encoded data removed]",
      "text/plain": [
       "<Figure size 576x576 with 1 Axes>"
      ]
     },
     "metadata": {
      "needs_background": "light"
     },
     "output_type": "display_data"
    }
   ],
   "source": [
    "# Decide which device we want to run on\n",
    "device = torch.device(\"cuda:0\" if (torch.cuda.is_available() and ngpu > 0) else \"cpu\")\n",
    "\n",
    "# Plot some training images\n",
    "real_batch = next(iter(dataloader))['x']\n",
    "plt.figure(figsize=(8,8))\n",
    "plt.axis(\"off\")\n",
    "plt.title(\"Training Images\")\n",
    "plt.imshow(np.transpose(vutils.make_grid(real_batch.to(device)[:32], padding=2, normalize=True).cpu(),(1,2,0)))"
   ]
  },
  {
   "cell_type": "code",
   "execution_count": 5,
   "metadata": {},
   "outputs": [],
   "source": [
    "def weights_init(m):\n",
    "    classname = m.__class__.__name__\n",
    "    if classname.find('Conv') != -1:\n",
    "        nn.init.normal_(m.weight.data, 0.0, 0.02)\n",
    "    elif classname.find('BatchNorm') != -1:\n",
    "        nn.init.normal_(m.weight.data, 1.0, 0.02)\n",
    "        nn.init.constant_(m.bias.data, 0)\n"
   ]
  },
  {
   "cell_type": "code",
   "execution_count": 6,
   "metadata": {},
   "outputs": [],
   "source": [
    "class Generator(nn.Module):\n",
    "    def __init__(self, ngpu):\n",
    "        super(Generator, self).__init__()\n",
    "        self.ngpu = ngpu\n",
    "        self.main = nn.Sequential(\n",
    "            # input is Z, going into a convolution\n",
    "            nn.ConvTranspose2d( nz, ngf * 8, 4, 1, 0, bias=False),\n",
    "            nn.BatchNorm2d(ngf * 8),\n",
    "            nn.ReLU(True),\n",
    "            # state size. (ngf*8) x 4 x 4\n",
    "            nn.ConvTranspose2d(ngf * 8, ngf * 4, 4, 2, 1, bias=False),\n",
    "            nn.BatchNorm2d(ngf * 4),\n",
    "            nn.ReLU(True),\n",
    "            # state size. (ngf*4) x 8 x 8\n",
    "            nn.ConvTranspose2d( ngf * 4, ngf * 2, 4, 2, 1, bias=False),\n",
    "            nn.BatchNorm2d(ngf * 2),\n",
    "            nn.ReLU(True),\n",
    "            # state size. (ngf*2) x 16 x 16\n",
    "            nn.ConvTranspose2d( ngf * 2, nc, 4, 2, 1, bias=False),\n",
    "            nn.Tanh()\n",
    "            # state size. (nc) x 64 x 64\n",
    "        )\n",
    "\n",
    "    def forward(self, input):\n",
    "        return self.main(input)"
   ]
  },
  {
   "cell_type": "code",
   "execution_count": 7,
   "metadata": {},
   "outputs": [
    {
     "name": "stdout",
     "output_type": "stream",
     "text": [
      "Generator(\n",
      "  (main): Sequential(\n",
      "    (0): ConvTranspose2d(50, 256, kernel_size=(4, 4), stride=(1, 1), bias=False)\n",
      "    (1): BatchNorm2d(256, eps=1e-05, momentum=0.1, affine=True, track_running_stats=True)\n",
      "    (2): ReLU(inplace)\n",
      "    (3): ConvTranspose2d(256, 128, kernel_size=(4, 4), stride=(2, 2), padding=(1, 1), bias=False)\n",
      "    (4): BatchNorm2d(128, eps=1e-05, momentum=0.1, affine=True, track_running_stats=True)\n",
      "    (5): ReLU(inplace)\n",
      "    (6): ConvTranspose2d(128, 64, kernel_size=(4, 4), stride=(2, 2), padding=(1, 1), bias=False)\n",
      "    (7): BatchNorm2d(64, eps=1e-05, momentum=0.1, affine=True, track_running_stats=True)\n",
      "    (8): ReLU(inplace)\n",
      "    (9): ConvTranspose2d(64, 1, kernel_size=(4, 4), stride=(2, 2), padding=(1, 1), bias=False)\n",
      "    (10): Tanh()\n",
      "  )\n",
      ")\n"
     ]
    }
   ],
   "source": [
    "# Create the generator\n",
    "netG = Generator(ngpu).to(device)\n",
    "\n",
    "# Handle multi-gpu if desired\n",
    "if (device.type == 'cuda') and (ngpu > 1):\n",
    "    netG = nn.DataParallel(netG, list(range(ngpu)))\n",
    "\n",
    "# Apply the weights_init function to randomly initialize all weights\n",
    "#  to mean=0, stdev=0.2.\n",
    "netG.apply(weights_init)\n",
    "\n",
    "# Print the model\n",
    "print(netG)\n"
   ]
  },
  {
   "cell_type": "code",
   "execution_count": 8,
   "metadata": {},
   "outputs": [],
   "source": [
    "class Discriminator(nn.Module):\n",
    "    def __init__(self, ngpu):\n",
    "        super(Discriminator, self).__init__()\n",
    "        self.ngpu = ngpu\n",
    "        self.main = nn.Sequential(\n",
    "            # state size. (ndf) x 32 x 32\n",
    "            nn.Conv2d(nc, ndf * 2, 4, 2, 1, bias=False),\n",
    "            nn.LeakyReLU(0.2, inplace=True),\n",
    "            # state size. (ndf*2) x 16 x 16\n",
    "            nn.Conv2d(ndf * 2, ndf * 4, 4, 2, 1, bias=False),\n",
    "            nn.BatchNorm2d(ndf * 4),\n",
    "            nn.LeakyReLU(0.2, inplace=True),\n",
    "            # state size. (ndf*4) x 8 x 8\n",
    "            nn.Conv2d(ndf * 4, ndf * 8, 4, 2, 1, bias=False),\n",
    "            nn.BatchNorm2d(ndf * 8),\n",
    "            nn.LeakyReLU(0.2, inplace=True),\n",
    "            # state size. (ndf*8) x 4 x 4\n",
    "            nn.Conv2d(ndf * 8, 1, 4, 1, 0, bias=False),\n",
    "            nn.Sigmoid()\n",
    "        )\n",
    "\n",
    "    def forward(self, input):\n",
    "        return self.main(input)\n"
   ]
  },
  {
   "cell_type": "code",
   "execution_count": 9,
   "metadata": {},
   "outputs": [
    {
     "name": "stdout",
     "output_type": "stream",
     "text": [
      "Discriminator(\n",
      "  (main): Sequential(\n",
      "    (0): Conv2d(1, 64, kernel_size=(4, 4), stride=(2, 2), padding=(1, 1), bias=False)\n",
      "    (1): LeakyReLU(negative_slope=0.2, inplace)\n",
      "    (2): Conv2d(64, 128, kernel_size=(4, 4), stride=(2, 2), padding=(1, 1), bias=False)\n",
      "    (3): BatchNorm2d(128, eps=1e-05, momentum=0.1, affine=True, track_running_stats=True)\n",
      "    (4): LeakyReLU(negative_slope=0.2, inplace)\n",
      "    (5): Conv2d(128, 256, kernel_size=(4, 4), stride=(2, 2), padding=(1, 1), bias=False)\n",
      "    (6): BatchNorm2d(256, eps=1e-05, momentum=0.1, affine=True, track_running_stats=True)\n",
      "    (7): LeakyReLU(negative_slope=0.2, inplace)\n",
      "    (8): Conv2d(256, 1, kernel_size=(4, 4), stride=(1, 1), bias=False)\n",
      "    (9): Sigmoid()\n",
      "  )\n",
      ")\n"
     ]
    }
   ],
   "source": [
    "# Create the Discriminator\n",
    "netD = Discriminator(ngpu).to(device)\n",
    "\n",
    "# Handle multi-gpu if desired\n",
    "if (device.type == 'cuda') and (ngpu > 1):\n",
    "    netD = nn.DataParallel(netD, list(range(ngpu)))\n",
    "\n",
    "# Apply the weights_init function to randomly initialize all weights\n",
    "#  to mean=0, stdev=0.2.\n",
    "netD.apply(weights_init)\n",
    "\n",
    "# Print the model\n",
    "print(netD)"
   ]
  },
  {
   "cell_type": "code",
   "execution_count": 10,
   "metadata": {},
   "outputs": [],
   "source": [
    "# Initialize BCELoss function\n",
    "criterion = nn.BCELoss()\n",
    "\n",
    "# Create batch of latent vectors that we will use to visualize\n",
    "#  the progression of the generator\n",
    "fixed_noise = torch.randn(64, nz, 1, 1, device=device)\n",
    "\n",
    "# Establish convention for real and fake labels during training\n",
    "real_label = 1\n",
    "fake_label = 0\n",
    "\n",
    "# Setup Adam optimizers for both G and D\n",
    "optimizerD = optim.Adam(netD.parameters(), lr=lr, betas=(beta1, 0.999))\n",
    "optimizerG = optim.Adam(netG.parameters(), lr=lr, betas=(beta1, 0.999))"
   ]
  },
  {
   "cell_type": "code",
   "execution_count": null,
   "metadata": {},
   "outputs": [
    {
     "name": "stdout",
     "output_type": "stream",
     "text": [
      "Starting Training Loop...\n",
      "[0/10][0/1563]\tLoss_D: 1.6950\tLoss_G: 3.7230\tD(x): 0.4562\tD(G(z)): 0.5244 / 0.0291\n",
      "[0/10][50/1563]\tLoss_D: 0.2895\tLoss_G: 8.1485\tD(x): 0.9108\tD(G(z)): 0.1708 / 0.0004\n",
      "[0/10][100/1563]\tLoss_D: 0.8420\tLoss_G: 3.2902\tD(x): 0.7074\tD(G(z)): 0.3139 / 0.0476\n",
      "[0/10][150/1563]\tLoss_D: 0.6389\tLoss_G: 2.0346\tD(x): 0.6652\tD(G(z)): 0.1521 / 0.1679\n",
      "[0/10][200/1563]\tLoss_D: 0.6632\tLoss_G: 2.7183\tD(x): 0.7394\tD(G(z)): 0.2686 / 0.0834\n",
      "[0/10][250/1563]\tLoss_D: 0.4606\tLoss_G: 2.1706\tD(x): 0.7411\tD(G(z)): 0.1261 / 0.1508\n",
      "[0/10][300/1563]\tLoss_D: 0.4626\tLoss_G: 2.1111\tD(x): 0.7404\tD(G(z)): 0.1217 / 0.1549\n",
      "[0/10][350/1563]\tLoss_D: 0.4559\tLoss_G: 2.6262\tD(x): 0.8234\tD(G(z)): 0.2068 / 0.0914\n",
      "[0/10][400/1563]\tLoss_D: 0.4464\tLoss_G: 2.0496\tD(x): 0.7234\tD(G(z)): 0.0823 / 0.1683\n",
      "[0/10][450/1563]\tLoss_D: 0.9945\tLoss_G: 2.9205\tD(x): 0.8767\tD(G(z)): 0.4974 / 0.0789\n",
      "[0/10][500/1563]\tLoss_D: 0.2546\tLoss_G: 4.3241\tD(x): 0.9570\tD(G(z)): 0.1795 / 0.0183\n",
      "[0/10][550/1563]\tLoss_D: 0.0730\tLoss_G: 4.0905\tD(x): 0.9526\tD(G(z)): 0.0232 / 0.0219\n",
      "[0/10][600/1563]\tLoss_D: 0.2069\tLoss_G: 2.8548\tD(x): 0.8948\tD(G(z)): 0.0826 / 0.0783\n",
      "[0/10][650/1563]\tLoss_D: 0.1294\tLoss_G: 3.4797\tD(x): 0.9384\tD(G(z)): 0.0609 / 0.0374\n",
      "[0/10][700/1563]\tLoss_D: 0.0861\tLoss_G: 4.4951\tD(x): 0.9716\tD(G(z)): 0.0535 / 0.0150\n",
      "[0/10][750/1563]\tLoss_D: 0.1424\tLoss_G: 3.4889\tD(x): 0.9160\tD(G(z)): 0.0486 / 0.0412\n",
      "[0/10][800/1563]\tLoss_D: 0.1139\tLoss_G: 2.5221\tD(x): 0.9071\tD(G(z)): 0.0122 / 0.1099\n",
      "[0/10][850/1563]\tLoss_D: 0.4696\tLoss_G: 2.5246\tD(x): 0.8334\tD(G(z)): 0.2274 / 0.1058\n",
      "[0/10][900/1563]\tLoss_D: 0.3219\tLoss_G: 5.0329\tD(x): 0.9446\tD(G(z)): 0.2050 / 0.0121\n",
      "[0/10][950/1563]\tLoss_D: 0.1019\tLoss_G: 4.5478\tD(x): 0.9695\tD(G(z)): 0.0661 / 0.0152\n",
      "[0/10][1000/1563]\tLoss_D: 0.1955\tLoss_G: 0.6205\tD(x): 0.8443\tD(G(z)): 0.0137 / 0.5920\n",
      "[0/10][1050/1563]\tLoss_D: 0.4467\tLoss_G: 2.4442\tD(x): 0.7361\tD(G(z)): 0.0528 / 0.1091\n",
      "[0/10][1100/1563]\tLoss_D: 0.1455\tLoss_G: 3.6387\tD(x): 0.9154\tD(G(z)): 0.0489 / 0.0380\n",
      "[0/10][1150/1563]\tLoss_D: 0.0577\tLoss_G: 3.8916\tD(x): 0.9680\tD(G(z)): 0.0239 / 0.0277\n",
      "[0/10][1200/1563]\tLoss_D: 0.5749\tLoss_G: 2.8718\tD(x): 0.7757\tD(G(z)): 0.2332 / 0.0768\n",
      "[0/10][1250/1563]\tLoss_D: 0.1171\tLoss_G: 3.7778\tD(x): 0.9214\tD(G(z)): 0.0298 / 0.0319\n",
      "[0/10][1300/1563]\tLoss_D: 0.0762\tLoss_G: 5.5051\tD(x): 0.9874\tD(G(z)): 0.0599 / 0.0058\n",
      "[0/10][1350/1563]\tLoss_D: 0.4840\tLoss_G: 1.9624\tD(x): 0.7610\tD(G(z)): 0.1718 / 0.1669\n",
      "[0/10][1400/1563]\tLoss_D: 0.2183\tLoss_G: 4.0608\tD(x): 0.9280\tD(G(z)): 0.1280 / 0.0219\n",
      "[0/10][1450/1563]\tLoss_D: 0.0806\tLoss_G: 3.9363\tD(x): 0.9686\tD(G(z)): 0.0463 / 0.0266\n",
      "[0/10][1500/1563]\tLoss_D: 0.0533\tLoss_G: 4.7878\tD(x): 0.9762\tD(G(z)): 0.0280 / 0.0125\n",
      "[0/10][1550/1563]\tLoss_D: 0.0315\tLoss_G: 5.4508\tD(x): 0.9798\tD(G(z)): 0.0107 / 0.0063\n",
      "[1/10][0/1563]\tLoss_D: 0.7969\tLoss_G: 15.5487\tD(x): 0.9991\tD(G(z)): 0.4862 / 0.0000\n",
      "[1/10][50/1563]\tLoss_D: 0.0781\tLoss_G: 4.0280\tD(x): 0.9821\tD(G(z)): 0.0575 / 0.0227\n",
      "[1/10][100/1563]\tLoss_D: 0.2611\tLoss_G: 3.2164\tD(x): 0.8769\tD(G(z)): 0.1087 / 0.0547\n",
      "[1/10][150/1563]\tLoss_D: 0.1219\tLoss_G: 3.6024\tD(x): 0.9606\tD(G(z)): 0.0754 / 0.0350\n",
      "[1/10][200/1563]\tLoss_D: 0.0685\tLoss_G: 4.1203\tD(x): 0.9440\tD(G(z)): 0.0095 / 0.0215\n",
      "[1/10][250/1563]\tLoss_D: 0.0529\tLoss_G: 4.7092\tD(x): 0.9881\tD(G(z)): 0.0392 / 0.0124\n",
      "[1/10][300/1563]\tLoss_D: 0.6271\tLoss_G: 1.6668\tD(x): 0.6789\tD(G(z)): 0.1718 / 0.2347\n",
      "[1/10][350/1563]\tLoss_D: 0.1622\tLoss_G: 4.0791\tD(x): 0.9720\tD(G(z)): 0.1201 / 0.0232\n",
      "[1/10][400/1563]\tLoss_D: 0.1490\tLoss_G: 4.0904\tD(x): 0.9561\tD(G(z)): 0.0947 / 0.0224\n",
      "[1/10][450/1563]\tLoss_D: 0.1941\tLoss_G: 3.5869\tD(x): 0.9076\tD(G(z)): 0.0859 / 0.0367\n",
      "[1/10][500/1563]\tLoss_D: 0.0629\tLoss_G: 4.3426\tD(x): 0.9763\tD(G(z)): 0.0372 / 0.0165\n",
      "[1/10][550/1563]\tLoss_D: 0.0387\tLoss_G: 4.6163\tD(x): 0.9841\tD(G(z)): 0.0216 / 0.0140\n",
      "[1/10][600/1563]\tLoss_D: 0.0265\tLoss_G: 5.0553\tD(x): 0.9886\tD(G(z)): 0.0147 / 0.0098\n",
      "[1/10][650/1563]\tLoss_D: 0.0215\tLoss_G: 5.2412\tD(x): 0.9873\tD(G(z)): 0.0086 / 0.0073\n",
      "[1/10][700/1563]\tLoss_D: 0.0194\tLoss_G: 4.9932\tD(x): 0.9964\tD(G(z)): 0.0156 / 0.0095\n",
      "[1/10][750/1563]\tLoss_D: 0.8349\tLoss_G: 1.1944\tD(x): 0.5576\tD(G(z)): 0.1716 / 0.3447\n",
      "[1/10][800/1563]\tLoss_D: 0.8138\tLoss_G: 4.9292\tD(x): 0.9673\tD(G(z)): 0.4886 / 0.0104\n",
      "[1/10][850/1563]\tLoss_D: 0.1362\tLoss_G: 2.9404\tD(x): 0.8998\tD(G(z)): 0.0236 / 0.0724\n",
      "[1/10][900/1563]\tLoss_D: 0.1111\tLoss_G: 3.4982\tD(x): 0.9420\tD(G(z)): 0.0465 / 0.0375\n",
      "[1/10][950/1563]\tLoss_D: 0.3593\tLoss_G: 3.2558\tD(x): 0.8406\tD(G(z)): 0.1437 / 0.0558\n",
      "[1/10][1000/1563]\tLoss_D: 0.0803\tLoss_G: 3.1832\tD(x): 0.9398\tD(G(z)): 0.0170 / 0.0583\n",
      "[1/10][1050/1563]\tLoss_D: 0.4420\tLoss_G: 2.1143\tD(x): 0.7443\tD(G(z)): 0.0979 / 0.1812\n",
      "[1/10][1100/1563]\tLoss_D: 0.0572\tLoss_G: 4.6005\tD(x): 0.9722\tD(G(z)): 0.0277 / 0.0153\n",
      "[1/10][1150/1563]\tLoss_D: 0.0422\tLoss_G: 4.3030\tD(x): 0.9708\tD(G(z)): 0.0122 / 0.0185\n",
      "[1/10][1200/1563]\tLoss_D: 0.0226\tLoss_G: 5.2894\tD(x): 0.9907\tD(G(z)): 0.0130 / 0.0090\n",
      "[1/10][1250/1563]\tLoss_D: 0.0214\tLoss_G: 4.9385\tD(x): 0.9874\tD(G(z)): 0.0085 / 0.0109\n",
      "[1/10][1300/1563]\tLoss_D: 1.3339\tLoss_G: 4.1749\tD(x): 0.9635\tD(G(z)): 0.6667 / 0.0217\n",
      "[1/10][1350/1563]\tLoss_D: 0.4097\tLoss_G: 3.7719\tD(x): 0.9635\tD(G(z)): 0.2835 / 0.0327\n"
     ]
    }
   ],
   "source": [
    "# Training Loop\n",
    "\n",
    "# Lists to keep track of progress\n",
    "img_list = []\n",
    "G_losses = []\n",
    "D_losses = []\n",
    "iters = 0\n",
    "\n",
    "print(\"Starting Training Loop...\")\n",
    "# For each epoch\n",
    "for epoch in range(num_epochs):\n",
    "    # For each batch in the dataloader\n",
    "    for i, data in enumerate(dataloader, 0):\n",
    "\n",
    "        ############################\n",
    "        # (1) Update D network: maximize log(D(x)) + log(1 - D(G(z)))\n",
    "        ###########################\n",
    "        ## Train with all-real batch\n",
    "        netD.zero_grad()\n",
    "        # Format batch\n",
    "        \n",
    "        real_cpu = data['x'].to(device)\n",
    "        b_size = real_cpu.size(0)\n",
    "        label = torch.full((b_size,), real_label, device=device)\n",
    "        # Forward pass real batch through D\n",
    "        output = netD(real_cpu).view(-1)\n",
    "        # Calculate loss on all-real batch\n",
    "        errD_real = criterion(output, label)\n",
    "        # Calculate gradients for D in backward pass\n",
    "        errD_real.backward()\n",
    "        D_x = output.mean().item()\n",
    "\n",
    "        ## Train with all-fake batch\n",
    "        # Generate batch of latent vectors\n",
    "        noise = torch.randn(b_size, nz, 1, 1, device=device)\n",
    "        # Generate fake image batch with G\n",
    "        fake = netG(noise)\n",
    "        label.fill_(fake_label)\n",
    "        # Classify all fake batch with D\n",
    "        output = netD(fake.detach()).view(-1)\n",
    "        # Calculate D's loss on the all-fake batch\n",
    "        errD_fake = criterion(output, label)\n",
    "        # Calculate the gradients for this batch\n",
    "        errD_fake.backward()\n",
    "        D_G_z1 = output.mean().item()\n",
    "        # Add the gradients from the all-real and all-fake batches\n",
    "        errD = errD_real + errD_fake\n",
    "        # Update D\n",
    "        optimizerD.step()\n",
    "\n",
    "        ############################\n",
    "        # (2) Update G network: maximize log(D(G(z)))\n",
    "        ###########################\n",
    "        netG.zero_grad()\n",
    "        label.fill_(real_label)  # fake labels are real for generator cost\n",
    "        # Since we just updated D, perform another forward pass of all-fake batch through D\n",
    "        output = netD(fake).view(-1)\n",
    "        # Calculate G's loss based on this output\n",
    "        errG = criterion(output, label)\n",
    "        # Calculate gradients for G\n",
    "        errG.backward()\n",
    "        D_G_z2 = output.mean().item()\n",
    "        # Update G\n",
    "        optimizerG.step()\n",
    "\n",
    "        # Output training stats\n",
    "        if i % 50 == 0:\n",
    "            print('[%d/%d][%d/%d]\\tLoss_D: %.4f\\tLoss_G: %.4f\\tD(x): %.4f\\tD(G(z)): %.4f / %.4f'\n",
    "                  % (epoch, num_epochs, i, len(dataloader),\n",
    "                     errD.item(), errG.item(), D_x, D_G_z1, D_G_z2))\n",
    "\n",
    "        # Save Losses for plotting later\n",
    "        G_losses.append(errG.item())\n",
    "        D_losses.append(errD.item())\n",
    "\n",
    "        # Check how the generator is doing by saving G's output on fixed_noise\n",
    "        if (iters % 500 == 0) or ((epoch == num_epochs-1) and (i == len(dataloader)-1)):\n",
    "            with torch.no_grad():\n",
    "                fake = netG(fixed_noise).detach().cpu()\n",
    "            img_list.append(vutils.make_grid(fake, padding=2, normalize=True))\n",
    "\n",
    "        iters += 1\n"
   ]
  },
  {
   "cell_type": "code",
   "execution_count": null,
   "metadata": {},
   "outputs": [],
   "source": [
    "plt.figure(figsize=(10,5))\n",
    "plt.title(\"Generator and Discriminator Loss During Training\")\n",
    "plt.plot(G_losses,label=\"G\")\n",
    "plt.plot(D_losses,label=\"D\")\n",
    "plt.xlabel(\"iterations\")\n",
    "plt.ylabel(\"Loss\")\n",
    "plt.legend()\n",
    "plt.show()\n"
   ]
  },
  {
   "cell_type": "code",
   "execution_count": null,
   "metadata": {},
   "outputs": [],
   "source": [
    "fig = plt.figure(figsize=(8,8))\n",
    "plt.axis(\"off\")\n",
    "ims = [[plt.imshow(np.transpose(i,(1,2,0)), animated=True)] for i in img_list]\n",
    "ani = animation.ArtistAnimation(fig, ims, interval=1000, repeat_delay=1000, blit=True)\n",
    "\n",
    "HTML(ani.to_jshtml())"
   ]
  },
  {
   "cell_type": "code",
   "execution_count": null,
   "metadata": {},
   "outputs": [],
   "source": [
    "# Grab a batch of real images from the dataloader\n",
    "real_batch = next(iter(dataloader))\n",
    "\n",
    "# Plot the real images\n",
    "plt.figure(figsize=(15,15))\n",
    "plt.subplot(1,2,1)\n",
    "plt.axis(\"off\")\n",
    "plt.title(\"Real Images\")\n",
    "plt.imshow(np.transpose(vutils.make_grid(real_batch['x'].to(device)[:32], padding=5, normalize=True).cpu(),(1,2,0)))\n",
    "\n",
    "# Plot the fake images from the last epoch\n",
    "plt.subplot(1,2,2)\n",
    "plt.axis(\"off\")\n",
    "plt.title(\"Fake Images\")\n",
    "plt.imshow(np.transpose(img_list[-1],(1,2,0)))\n",
    "plt.show()\n"
   ]
  },
  {
   "cell_type": "code",
   "execution_count": null,
   "metadata": {},
   "outputs": [],
   "source": []
  },
  {
   "cell_type": "code",
   "execution_count": null,
   "metadata": {},
   "outputs": [],
   "source": []
  },
  {
   "cell_type": "code",
   "execution_count": null,
   "metadata": {},
   "outputs": [],
   "source": []
  }
 ],
 "metadata": {
  "kernelspec": {
   "display_name": "Python 3",
   "language": "python",
   "name": "python3"
  },
  "language_info": {
   "codemirror_mode": {
    "name": "ipython",
    "version": 3
   },
   "file_extension": ".py",
   "mimetype": "text/x-python",
   "name": "python",
   "nbconvert_exporter": "python",
   "pygments_lexer": "ipython3",
   "version": "3.7.3"
  }
 },
 "nbformat": 4,
 "nbformat_minor": 4
}
