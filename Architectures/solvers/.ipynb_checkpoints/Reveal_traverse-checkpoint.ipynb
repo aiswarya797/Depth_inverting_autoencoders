{
 "cells": [
  {
   "cell_type": "code",
   "execution_count": 218,
   "metadata": {},
   "outputs": [
    {
     "name": "stdout",
     "output_type": "stream",
     "text": [
      "The autoreload extension is already loaded. To reload it, use:\n",
      "  %reload_ext autoreload\n"
     ]
    }
   ],
   "source": [
    "import torch\n",
    "import torch.optim as optim\n",
    "import torch.nn.functional as F\n",
    "import torch.nn as nn\n",
    "\n",
    "import numpy as np\n",
    "import sys\n",
    "import os\n",
    "from scipy import stats\n",
    "import matplotlib.pyplot as plt\n",
    "\n",
    "sys.path.insert(0, '/home/riccardo/Desktop/OcclusionInference/Architectures')\n",
    "from models.BLT_models import multi_VAE \n",
    "from data_loaders.dataset_unsup import MyDataset_unsup\n",
    "\n",
    "%load_ext autoreload\n",
    "%autoreload 2"
   ]
  },
  {
   "cell_type": "code",
   "execution_count": 225,
   "metadata": {},
   "outputs": [
    {
     "name": "stdout",
     "output_type": "stream",
     "text": [
      "Sorting train image files\n"
     ]
    }
   ],
   "source": [
    "image_paths = \"/home/riccardo/Desktop/Data/Hid_traverse_2dgt_solid/digts/train/orig/\"\n",
    "target_paths = \"/home/riccardo/Desktop/Data/Hid_traverse_2dgt_solid/digts/train/inverse/\"\n",
    "\n",
    "dset = MyDataset_unsup\n",
    "train_data_size = len(os.listdir(image_paths))\n",
    "train_data = dset(image_paths,target_paths, 32, 'train',train_data_size )"
   ]
  },
  {
   "cell_type": "code",
   "execution_count": 227,
   "metadata": {},
   "outputs": [
    {
     "name": "stdout",
     "output_type": "stream",
     "text": [
      "using B encoder B decoder\n"
     ]
    },
    {
     "data": {
      "text/plain": [
       "IncompatibleKeys(missing_keys=[], unexpected_keys=[])"
      ]
     },
     "execution_count": 227,
     "metadata": {},
     "output_type": "execute_result"
    }
   ],
   "source": [
    "net_1 = multi_VAE('B','B', 24, 0 ,35, 1, 4,False, 6, 2, False)\n",
    "file_path = '/home/riccardo/Desktop/Experiments/encoder_sup/2_digts/bw/arch/B_matchedlr0_001/main/last'\n",
    "checkpoint = torch.load(file_path) \n",
    "net_1.load_state_dict(checkpoint['model_states']['net'])"
   ]
  },
  {
   "cell_type": "code",
   "execution_count": 244,
   "metadata": {},
   "outputs": [],
   "source": [
    "encoder_target_type = \"colour_bind\"\n",
    "dset_dir = '/home/riccardo/Desktop/Experiments/Reveal/solid2/B_matched'\n",
    "image_num_list = [1,2,3,9]\n",
    "\n"
   ]
  },
  {
   "cell_type": "code",
   "execution_count": 245,
   "metadata": {},
   "outputs": [
    {
     "name": "stderr",
     "output_type": "stream",
     "text": [
      "/home/riccardo/miniconda3/envs/rconci/lib/python3.7/site-packages/ipykernel_launcher.py:17: UserWarning: Implicit dimension choice for softmax has been deprecated. Change the call to include dim=X as an argument.\n",
      "/home/riccardo/miniconda3/envs/rconci/lib/python3.7/site-packages/ipykernel_launcher.py:18: UserWarning: Implicit dimension choice for softmax has been deprecated. Change the call to include dim=X as an argument.\n"
     ]
    }
   ],
   "source": [
    "for i in range(len(image_num_list)):\n",
    "    sample = train_data.__getitem__(image_num_list[i])\n",
    "    x = sample[\"x\"]\n",
    "    y = sample[\"y\"]\n",
    "    x = x.unsqueeze(0)\n",
    "    y = y.unsqueeze(0)\n",
    "    \n",
    "    plt.figure()\n",
    "    plt.imshow(sample[\"x\"][0,:,:],  cmap='gray')\n",
    "    plt.axis('off')\n",
    "    #plt.show()\n",
    "    plt.savefig('{}/image_{}'.format(dset_dir, i))\n",
    "    plt.close()\n",
    "    encoder_list = net_1._encode(x)\n",
    "    m = nn.Softmax()\n",
    "    if encoder_target_type == 'colour_bind':\n",
    "        digt_black = m(encoder_list[-1][:,1:11])\n",
    "        digt_white = m(encoder_list[-1][:,11:21])\n",
    "        digits = torch.cat((digt_black, digt_white), 0)\n",
    "        digits = digits.detach().numpy()\n",
    "    elif encoder_target_type == 'depth_bind':\n",
    "        if n_digits ==2:\n",
    "            digt_front = m(encoder_list[-1][0:10])\n",
    "            digt_back = m(encoder_list[-1][10:20])\n",
    "            digits = torch.cat((digt_front, digt_back), 0)\n",
    "            digits = digits.detach().numpy()\n",
    "        elif n_digits ==3:\n",
    "            digt_front = m(encoder_list[-1][0:10])\n",
    "            digt_mid= m(encoder_list[-1][10:20])\n",
    "            digt_back = m(encoder_list[-1][20:30])\n",
    "            digits = torch.cat((digt_front, digt_back), 0)\n",
    "            digits = digits.detach().numpy()\n",
    "\n",
    "    fig=plt.figure(figsize=(18, 8), dpi= 80, facecolor='w', edgecolor='k')\n",
    "    fig1 = plt.subplot(121)\n",
    "    plt.bar(range(digits.shape[1]),digits[0], align='center', alpha=0.5, color='k')\n",
    "    plt.xticks(range(10))\n",
    "    plt.ylabel('Probability', size=25)\n",
    "    plt.title('Black digit', size=25)\n",
    "    plt.xticks(fontsize=20)\n",
    "    plt.yticks(fontsize=20)\n",
    "    plt.xlabel('Digit identity', size=25)\n",
    "    fig2 = plt.subplot(122)\n",
    "    plt.bar(range(digits.shape[1]),digits[1], align='center', alpha=0.5, color='g')\n",
    "    plt.xticks(range(10))\n",
    "    plt.title('White digit', size=25)\n",
    "    plt.xticks(fontsize=20)\n",
    "    plt.yticks(fontsize=20)\n",
    "    plt.ylabel('Probability', size=25)\n",
    "    plt.xlabel('Digit identity', size=25)\n",
    "    #plt.show()\n",
    "    plt.savefig('{}/bars_{}'.format(dset_dir, i))\n",
    "    plt.close()\n",
    "\n"
   ]
  },
  {
   "cell_type": "code",
   "execution_count": 164,
   "metadata": {},
   "outputs": [
    {
     "name": "stderr",
     "output_type": "stream",
     "text": [
      "/home/riccardo/miniconda3/envs/rconci/lib/python3.7/site-packages/ipykernel_launcher.py:4: UserWarning: Implicit dimension choice for softmax has been deprecated. Change the call to include dim=X as an argument.\n",
      "  after removing the cwd from sys.path.\n",
      "/home/riccardo/miniconda3/envs/rconci/lib/python3.7/site-packages/ipykernel_launcher.py:5: UserWarning: Implicit dimension choice for softmax has been deprecated. Change the call to include dim=X as an argument.\n",
      "  \"\"\"\n"
     ]
    }
   ],
   "source": [
    "\n"
   ]
  },
  {
   "cell_type": "code",
   "execution_count": null,
   "metadata": {},
   "outputs": [],
   "source": []
  },
  {
   "cell_type": "code",
   "execution_count": null,
   "metadata": {},
   "outputs": [],
   "source": []
  }
 ],
 "metadata": {
  "kernelspec": {
   "display_name": "Python 3",
   "language": "python",
   "name": "python3"
  },
  "language_info": {
   "codemirror_mode": {
    "name": "ipython",
    "version": 3
   },
   "file_extension": ".py",
   "mimetype": "text/x-python",
   "name": "python",
   "nbconvert_exporter": "python",
   "pygments_lexer": "ipython3",
   "version": "3.7.3"
  }
 },
 "nbformat": 4,
 "nbformat_minor": 4
}
