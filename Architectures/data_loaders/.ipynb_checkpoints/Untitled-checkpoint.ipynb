{
 "cells": [
  {
   "cell_type": "code",
   "execution_count": 4,
   "metadata": {},
   "outputs": [],
   "source": [
    "import pandas as pd\n",
    "import matplotlib.pyplot as plt\n",
    "%matplotlib inline\n",
    "\n",
    "csv_path = \"/Users/riccardoconci/Desktop/2_dig_fixed_random_bw/digts/digts.csv\"\n",
    "train_image_paths = \"/Users/riccardoconci/Desktop/2_dig_fixed_random_bw/digts/train/orig/\"    \n",
    "test_image_paths = \"/Users/riccardoconci/Desktop/2_dig_fixed_random_bw/digts/test/orig/\"\n",
    "train_data_size = len(os.listdir(train_image_paths))\n",
    "test_data_size = len(os.listdir(test_image_paths))\n",
    "\n",
    "train_test_type = 'train'\n",
    "\n",
    "data = pd.read_csv(csv_path, header=None)\n",
    "train_data = data.iloc[:train_data_size, :]\n",
    "test_data = data.iloc[train_data_size:, :]\n",
    "\n",
    "if train_test_type=='train':\n",
    "    digt_list_train = train_data.iloc[:, [5,21]].values.astype(int)\n",
    "    cols_train = train_data.iloc[:, [12, 32]].values/255\n",
    "    cols_train = cols_train.astype(int)\n",
    "    x_back = train_data.iloc[:, 6].values.astype(float)\n",
    "    y_back = train_data.iloc[:, 7].values.astype(float)\n",
    "    x_front = train_data.iloc[:, 22].values.astype(float)\n",
    "    y_front = train_data.iloc[:, 23].values.astype(float)\n",
    "elif train_test_type=='test':\n",
    "    digt_list_test = test_data.iloc[:, [5,21]].values.astype(int)\n",
    "    cols_test = test_data.iloc[:, [12, 32]].values/255\n",
    "    cols_test = cols_test.astype(int)\n",
    "    x_back = test_data.iloc[:, 6].values.astype(float)\n",
    "    y_back= test_data.iloc[:, 7].values.astype(float)\n",
    "    x_front = test_data.iloc[:, 22].values.astype(float)\n",
    "    y_front = test_data.iloc[:, 23].values.astype(float)\n",
    "       \n",
    "distance = np.sqrt((x_front - x_back)**2 + (y_front - y_back)**2)\n",
    "\n",
    "plt.hist(distance, bins=30)\n",
    "plt.ylabel('Probability');\n",
    "plt.savefig('hist_distances.png')"
   ]
  },
  {
   "cell_type": "code",
   "execution_count": 6,
   "metadata": {},
   "outputs": [
    {
     "data": {
      "image/png": "[encoded data removed]",
      "text/plain": [
       "<Figure size 432x288 with 1 Axes>"
      ]
     },
     "metadata": {
      "needs_background": "light"
     },
     "output_type": "display_data"
    }
   ],
   "source": []
  },
  {
   "cell_type": "code",
   "execution_count": 15,
   "metadata": {},
   "outputs": [
    {
     "data": {
      "text/plain": [
       "0.09531017980432493"
      ]
     },
     "execution_count": 15,
     "metadata": {},
     "output_type": "execute_result"
    }
   ],
   "source": [
    "import numpy as np\n",
    "np.log(+1.1)"
   ]
  },
  {
   "cell_type": "code",
   "execution_count": null,
   "metadata": {},
   "outputs": [],
   "source": []
  }
 ],
 "metadata": {
  "kernelspec": {
   "display_name": "Python 3",
   "language": "python",
   "name": "python3"
  },
  "language_info": {
   "codemirror_mode": {
    "name": "ipython",
    "version": 3
   },
   "file_extension": ".py",
   "mimetype": "text/x-python",
   "name": "python",
   "nbconvert_exporter": "python",
   "pygments_lexer": "ipython3",
   "version": "3.7.3"
  }
 },
 "nbformat": 4,
 "nbformat_minor": 2
}
