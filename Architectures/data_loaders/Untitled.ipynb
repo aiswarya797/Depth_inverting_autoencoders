{
 "cells": [
  {
   "cell_type": "code",
   "execution_count": 9,
   "metadata": {},
   "outputs": [
    {
     "data": {
      "image/png": "[encoded data removed]",
      "text/plain": [
       "<Figure size 432x288 with 1 Axes>"
      ]
     },
     "metadata": {
      "needs_background": "light"
     },
     "output_type": "display_data"
    }
   ],
   "source": [
    "import pandas as pd\n",
    "import matplotlib.pyplot as plt\n",
    "import os\n",
    "import numpy as np\n",
    "%matplotlib inline\n",
    "import torch\n",
    "csv_path = \"/home/riccardo/Desktop/Data/100k_3digt_BWE/digts/digts.csv\"\n",
    "train_image_paths = \"/home/riccardo/Desktop/Data/100k_3digt_BWE/digts/train/orig\"\n",
    "train_data_size = len(os.listdir(train_image_paths))\n",
    "\n",
    "train_test_type = 'train'\n",
    "\n",
    "train_data = pd.read_csv(csv_path, header=None)\n",
    "if train_data.shape[1] > 37:\n",
    "    if train_test_type=='train':\n",
    "        digt_list_train = train_data.iloc[:, [5,21, 37]].values.astype(int)\n",
    "        x_back = train_data.iloc[:, 6].values.astype(float)\n",
    "        y_back = train_data.iloc[:, 7].values.astype(float)\n",
    "        x_mid = train_data.iloc[:, 22].values.astype(float)\n",
    "        y_mid = train_data.iloc[:, 23].values.astype(float)\n",
    "        x_front = train_data.iloc[:, 38].values.astype(float)\n",
    "        y_front = train_data.iloc[:, 39].values.astype(float)\n",
    "\n",
    "distance = np.sqrt((x_front - x_back)**2 + (y_front - y_back)**2)\n",
    "\n",
    "plt.hist(distance, bins=30)\n",
    "plt.ylabel('Probability');\n",
    "plt.savefig('hist_distances.png')"
   ]
  },
  {
   "cell_type": "code",
   "execution_count": 7,
   "metadata": {},
   "outputs": [
    {
     "data": {
      "text/plain": [
       "range(0, 3)"
      ]
     },
     "execution_count": 7,
     "metadata": {},
     "output_type": "execute_result"
    }
   ],
   "source": [
    " range(digt_list_train.shape[1])"
   ]
  },
  {
   "cell_type": "code",
   "execution_count": 12,
   "metadata": {},
   "outputs": [
    {
     "data": {
      "text/plain": [
       "array([[3, 1, 5],\n",
       "       [8, 9, 7],\n",
       "       [0, 3, 1],\n",
       "       ...,\n",
       "       [4, 7, 1],\n",
       "       [4, 2, 0],\n",
       "       [3, 7, 1]])"
      ]
     },
     "execution_count": 12,
     "metadata": {},
     "output_type": "execute_result"
    }
   ],
   "source": [
    "digt_list_train"
   ]
  },
  {
   "cell_type": "code",
   "execution_count": 13,
   "metadata": {},
   "outputs": [
    {
     "data": {
      "text/plain": [
       "tensor([[0., 0., 0.,  ..., 0., 0., 0.],\n",
       "        [0., 0., 0.,  ..., 1., 0., 0.],\n",
       "        [0., 1., 0.,  ..., 0., 0., 0.],\n",
       "        ...,\n",
       "        [0., 1., 0.,  ..., 0., 0., 0.],\n",
       "        [1., 0., 0.,  ..., 0., 0., 0.],\n",
       "        [0., 1., 0.,  ..., 0., 0., 0.]])"
      ]
     },
     "execution_count": 13,
     "metadata": {},
     "output_type": "execute_result"
    }
   ],
   "source": [
    "n_values = 10\n",
    "back = torch.FloatTensor(np.eye(n_values)[digt_list_train[:,0]])\n",
    "mid =  torch.FloatTensor(np.eye(n_values)[digt_list_train[:,1]])\n",
    "front =  torch.FloatTensor(np.eye(n_values)[digt_list_train[:,2]])\n",
    "front"
   ]
  },
  {
   "cell_type": "code",
   "execution_count": null,
   "metadata": {},
   "outputs": [],
   "source": []
  }
 ],
 "metadata": {
  "kernelspec": {
   "display_name": "Python 3",
   "language": "python",
   "name": "python3"
  },
  "language_info": {
   "codemirror_mode": {
    "name": "ipython",
    "version": 3
   },
   "file_extension": ".py",
   "mimetype": "text/x-python",
   "name": "python",
   "nbconvert_exporter": "python",
   "pygments_lexer": "ipython3",
   "version": "3.7.3"
  }
 },
 "nbformat": 4,
 "nbformat_minor": 4
}
