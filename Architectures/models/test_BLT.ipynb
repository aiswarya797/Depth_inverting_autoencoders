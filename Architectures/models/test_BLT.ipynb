{
 "cells": [
  {
   "cell_type": "code",
   "execution_count": 2,
   "metadata": {},
   "outputs": [],
   "source": [
    "import torch\n",
    "import torch.nn as nn\n",
    "import torch.nn.functional as F\n",
    "import torch.nn.init as init\n",
    "    "
   ]
  },
  {
   "cell_type": "code",
   "execution_count": 9,
   "metadata": {},
   "outputs": [],
   "source": [
    "class BLT_mod_decoder(nn.Module):\n",
    "    def __init__(self, z_dim_bern, z_dim_gauss, nc):\n",
    "        super(BLT_mod_decoder, self).__init__()\n",
    "        self.device = torch.device(\"cuda:0\" if torch.cuda.is_available() else \"cpu\")\n",
    "        print(\"using BLT_mod_decoder\")\n",
    "        \n",
    "        self.Lin_1 = nn.Linear( z_dim_bern + z_dim_gauss, 256, bias=True)\n",
    "        self.Lin_2 = nn.Linear(256, 256, bias=True) \n",
    "        self.Lin_3 = nn.Linear(256, 32*4*4, bias=True) \n",
    "        \n",
    "        self.W_b_1 = nn.ConvTranspose2d(32, 32, kernel_size=3, stride=2, padding=1, output_padding=1 ,bias=True ) # bs 32 8 8\n",
    "        self.W_l_1 = nn.Conv2d(32, 32,kernel_size= 3, stride = 1, padding = 1, bias=False)\n",
    "        self.W_t_1 = nn.Conv2d(32, 32, kernel_size= 4, stride = 2, padding = 1, bias=False)   \n",
    "        \n",
    "        self.W_b_2 = nn.ConvTranspose2d(32, 32, kernel_size=3, stride=2, padding=1, output_padding=1 ,bias=True ) # bs 32 16 16\n",
    "        self.W_l_2 = nn.Conv2d(32, 32,kernel_size= 3, stride = 1, padding = 1, bias=False)\n",
    "        self.W_t_2 = nn.Conv2d(32, 32, kernel_size= 4, stride = 2, padding = 1, bias=False) \n",
    "        \n",
    "        self.W_b_3 = nn.ConvTranspose2d(32, nc, kernel_size=3, stride=2, padding=1, output_padding=1 ,bias=True ) # bs 32 32 32\n",
    "        self.W_l_3 = nn.Conv2d(32, 32,kernel_size= 3, stride = 1, padding = 1, bias=False)\n",
    "                \n",
    "        self.LRN = nn.LocalResponseNorm(size=5, alpha=10e-4, beta=0.5, k=1.)\n",
    "        \n",
    "        self.weight_init() \n",
    "        \n",
    "    def weight_init(self):\n",
    "        for block in self._modules:\n",
    "            kaiming_init(block)\n",
    "        \n",
    "    def forward(self, z):\n",
    "        for t in range(4):\n",
    "            if t <1:\n",
    "                Z_1 = self.Lin_3(F.relu(self.Lin_2(F.relu(self.Lin_1(z))))).view(-1,32,4,4)\n",
    "                Z_2 = self.W_b_1(self.LRN(F.relu(Z_1)))\n",
    "                Z_3 = self.W_b_2(self.LRN(F.relu(Z_2)))\n",
    "                final_img = self.W_b_3(self.LRN(F.relu(Z_3)))\n",
    "            if t>=1:\n",
    "                Z_1 = self.Lin_3(F.relu(self.Lin_2(F.relu(self.Lin_1(z))))).view(-1,32,4,4) + self.W_l_1(self.LRN(F.relu(Z_1))) + self.W_t_1(self.LRN(F.relu(Z_2)))\n",
    "                Z_2 = self.W_b_1(self.LRN(F.relu(Z_1))) + self.W_l_2(self.LRN(F.relu(Z_2))) +  self.W_t_2(self.LRN(F.relu(Z_3)))\n",
    "                Z_3 = self.W_b_2(self.LRN(F.relu(Z_2))) + self.W_l_3(self.LRN(F.relu(Z_3)))\n",
    "                final_img = self.W_b_3(self.LRN(F.relu(Z_3)))\n",
    "        \n",
    "        #print(torch.sum(torch.isnan(final_img)))\n",
    "        #print(final_img.size())\n",
    "        #print(final_img[0,:])\n",
    "        return(final_img)\n",
    "\n",
    "    "
   ]
  },
  {
   "cell_type": "code",
   "execution_count": 10,
   "metadata": {},
   "outputs": [],
   "source": [
    "def kaiming_init(m):\n",
    "    if isinstance(m, (nn.Linear, nn.Conv2d, nn.ConvTranspose2d)):\n",
    "        init.kaiming_normal(m.weight)\n",
    "        if m.bias is not None:\n",
    "            m.bias.data.fill_(0)"
   ]
  },
  {
   "cell_type": "code",
   "execution_count": 11,
   "metadata": {},
   "outputs": [
    {
     "name": "stdout",
     "output_type": "stream",
     "text": [
      "using BLT_mod_decoder\n",
      "Lin_1\n",
      "Lin_2\n",
      "Lin_3\n",
      "W_b_1\n",
      "W_l_1\n",
      "W_t_1\n",
      "W_b_2\n",
      "W_l_2\n",
      "W_t_2\n",
      "W_b_3\n",
      "W_l_3\n",
      "LRN\n"
     ]
    }
   ],
   "source": [
    "net = BLT_mod_decoder(0, 10, 1)"
   ]
  },
  {
   "cell_type": "code",
   "execution_count": null,
   "metadata": {},
   "outputs": [],
   "source": []
  }
 ],
 "metadata": {
  "kernelspec": {
   "display_name": "Python 3",
   "language": "python",
   "name": "python3"
  },
  "language_info": {
   "codemirror_mode": {
    "name": "ipython",
    "version": 3
   },
   "file_extension": ".py",
   "mimetype": "text/x-python",
   "name": "python",
   "nbconvert_exporter": "python",
   "pygments_lexer": "ipython3",
   "version": "3.7.3"
  }
 },
 "nbformat": 4,
 "nbformat_minor": 2
}
