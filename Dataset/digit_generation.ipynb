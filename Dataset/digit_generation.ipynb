{
 "cells": [
  {
   "cell_type": "code",
   "execution_count": 200,
   "metadata": {},
   "outputs": [],
   "source": [
    "import sys\n",
    "sys.path.append('../')\n",
    "from os.path import abspath\n",
    "import matplotlib.pyplot as plt\n",
    "%matplotlib inline\n",
    "import numpy as np\n",
    "from scipy.io import savemat\n",
    "import pickle\n",
    "import math\n",
    "\n",
    "#import character_mod\n",
    "\n",
    "from generate_mod import sample_clutter\n",
    "import io_mod, generate_mod, Clutter_mod, utils_mod\n",
    "from utils_mod import shlex_cmd, DIGITS\n",
    "\n",
    "%load_ext autoreload\n",
    "%autoreload 2"
   ]
  },
  {
   "cell_type": "code",
   "execution_count": 163,
   "metadata": {},
   "outputs": [],
   "source": [
    "#FILENAME = \"/Volumes/RCONCI/2 digits fixed offset/\"\n",
    "FILENAME = \"/Users/riccardoconci/Desktop/code/Zuckerman_Project/Dataset\"\n",
    "#FILENAME = \"/Volumes/RCONCI/2_digits_fixed_2\"\n",
    "#FILENAME = \"/Volumes/RCONCI/2_dig_fixed_random_bw\"\n",
    "import os\n",
    "os.chdir(FILENAME)"
   ]
  },
  {
   "cell_type": "code",
   "execution_count": 283,
   "metadata": {},
   "outputs": [],
   "source": [
    "n_samples = 20\n",
    "clutter_list = []\n",
    "for i in range(n_samples):\n",
    "    clutter_list += [sample_clutter(image_size = (256,256),\n",
    "                                    fontsize = 140,\n",
    "                                    font_set=['helvetica-bold'], \n",
    "                                    n_letters=2,\n",
    "                                   linewidth=5, \n",
    "                                   face_colour_set =[(0, 0, 0, 1.0),(255,255,255, 1.0)], \n",
    "                                   edge_colour_set= [(255,255,255, 1.0), (0, 0, 0, 1.0)],\n",
    "                                   offset_cov = ((0,0),(0,0)),\n",
    "                                   offset_mean = [(-0.18,-0.18),(0.18,0.18)])]"
   ]
  },
  {
   "cell_type": "code",
   "execution_count": 284,
   "metadata": {},
   "outputs": [
    {
     "data": {
      "text/plain": [
       "128.0"
      ]
     },
     "execution_count": 284,
     "metadata": {},
     "output_type": "execute_result"
    }
   ],
   "source": [
    "256/2"
   ]
  },
  {
   "cell_type": "code",
   "execution_count": 285,
   "metadata": {},
   "outputs": [
    {
     "name": "stdout",
     "output_type": "stream",
     "text": [
      "Overwriting /Users/riccardoconci/Desktop/code/Zuckerman_Project/Dataset/digts/digts.csv\n"
     ]
    }
   ],
   "source": [
    "clutter_list = io_mod.name_files('{}/digts'.format(FILENAME), clutter_list=clutter_list)\n",
    "io_mod.save_image_set(clutter_list, '{}/digts/digts.csv'.format(FILENAME))\n",
    "#/Volumes/RCONCI/2 digits colours\n",
    "\n",
    "#loaded_clutter_list = io_mod.read_image_set('/Volumes/RCONCI/2 digits fixed offset/test/test.csv')"
   ]
  },
  {
   "cell_type": "code",
   "execution_count": 286,
   "metadata": {},
   "outputs": [
    {
     "name": "stdout",
     "output_type": "stream",
     "text": [
      "19 1\n"
     ]
    }
   ],
   "source": [
    "\n",
    "train_size = int(n_samples*0.98)\n",
    "test_size = n_samples-train_size\n",
    "print(train_size,test_size)"
   ]
  },
  {
   "cell_type": "code",
   "execution_count": 287,
   "metadata": {},
   "outputs": [],
   "source": [
    "fname_list = []\n",
    "for i, cl in enumerate(clutter_list):\n",
    "    if i < train_size:\n",
    "        cl.render_occlusion(fname=\"{}/digts/train/orig/orig_{}\".format(FILENAME,i)) #/Volumes/RCONCI/2 digits colours/\n",
    "        cl.render_occlusion(fname=\"{}/digts/train/inverse/inverse_{}\".format(FILENAME,i), inverse=True)\n",
    "        fname_list.append(\"{}/digts/train/orig/orig_{}\".format(FILENAME, i))\n",
    "        fname_list.append(\"{}/digts/train/inverse/inverse_{}\".format(FILENAME,i))\n",
    "    elif i >= train_size:\n",
    "        cl.render_occlusion(fname=\"{}/digts/test/orig/orig_{}\".format(FILENAME,i)) #/Volumes/RCONCI/2 digits colours/\n",
    "        cl.render_occlusion(fname=\"{}/digts/test/inverse/inverse_{}\".format(FILENAME,i), inverse=True)\n",
    "        fname_list.append(\"{}/digts/test/orig/orig_{}\".format(FILENAME, i))\n",
    "        fname_list.append(\"{}/digts/test/inverse/inverse_{}\".format(FILENAME,i))\n",
    "        "
   ]
  },
  {
   "cell_type": "code",
   "execution_count": 249,
   "metadata": {},
   "outputs": [],
   "source": [
    "import pandas as pd \n",
    "file = '/Users/riccardoconci/Desktop/2_dig_fixed_random_bw/digts/digts.csv'\n",
    "data = pd.read_csv(file, header=None)\n",
    "train_data = data.iloc[:9800, :]\n",
    "test_data = data.iloc[9800:, :]\n",
    "\n",
    "digt_list_train = train_data.iloc[:, [5,21]].values.astype(int)\n",
    "cols_train = train_data.iloc[:, [12, 32]].values/255\n",
    "cols_train = cols_train.astype(int)\n",
    "x_back_train = train_data.iloc[:, 6].values.astype(float)\n",
    "y_back_train = train_data.iloc[:, 7].values.astype(float)\n",
    "x_front_train = train_data.iloc[:, 22].values.astype(float)\n",
    "y_front_train = train_data.iloc[:, 23].values.astype(float)\n",
    "distance_train = np.sqrt((x_front_train - x_back_train)**2 + (y_front_train - y_back_train)**2)\n",
    "\n",
    "digt_list_test = test_data.iloc[:, [5,21]].values.astype(int)\n",
    "cols_test = test_data.iloc[:, [12, 32]].values/255\n",
    "cols_test = cols_test.astype(int)\n",
    "x_back_test = test_data.iloc[:, 6].values.astype(float)\n",
    "y_back_test= test_data.iloc[:, 7].values.astype(float)\n",
    "x_front_test = test_data.iloc[:, 22].values.astype(float)\n",
    "y_front_test = test_data.iloc[:, 23].values.astype(float)\n",
    "distance_test = np.sqrt((x_front_test - x_back_test)**2 + (y_front_test - y_back_test)**2)\n"
   ]
  },
  {
   "cell_type": "code",
   "execution_count": 250,
   "metadata": {},
   "outputs": [
    {
     "data": {
      "text/plain": [
       "array([[1, 0],\n",
       "       [1, 0],\n",
       "       [1, 0],\n",
       "       ...,\n",
       "       [1, 0],\n",
       "       [0, 1],\n",
       "       [1, 0]])"
      ]
     },
     "execution_count": 250,
     "metadata": {},
     "output_type": "execute_result"
    }
   ],
   "source": [
    "cols_train"
   ]
  },
  {
   "cell_type": "code",
   "execution_count": 253,
   "metadata": {},
   "outputs": [
    {
     "data": {
      "text/plain": [
       "tensor([[1, 0, 0, 0, 0, 0, 0, 0, 1, 0, 0, 0, 1, 0, 0, 0, 0, 0, 0, 0, 0],\n",
       "        [1, 0, 0, 0, 0, 0, 0, 1, 0, 0, 0, 0, 0, 1, 0, 0, 0, 0, 0, 0, 0],\n",
       "        [1, 0, 0, 0, 1, 0, 0, 0, 0, 0, 0, 0, 0, 0, 0, 0, 0, 0, 0, 0, 1],\n",
       "        [0, 1, 0, 0, 0, 0, 0, 0, 0, 0, 0, 0, 0, 0, 0, 0, 0, 0, 1, 0, 0],\n",
       "        [0, 0, 0, 0, 0, 0, 0, 0, 1, 0, 0, 0, 0, 0, 1, 0, 0, 0, 0, 0, 0]])"
      ]
     },
     "execution_count": 253,
     "metadata": {},
     "output_type": "execute_result"
    }
   ],
   "source": [
    "new_train_df = np.zeros((train_data.shape[0], 2))\n",
    "#new_test_df = np.zeros((test_data.shape[0], 2))\n",
    "\n",
    "for i in range(train_data.shape[0]):\n",
    "    new_train_df[i,cols_train[i,0]] = digt_list_train[i,0]\n",
    "    new_train_df[i,cols_train[i,1]] = digt_list_train[i,1]\n",
    "\n",
    "for i in range(test_data.shape[0]):\n",
    "    new_test_df[i,cols_test[i,0]] = digt_list_test[i,0]\n",
    "    new_test_df[i,cols_test[i,1]] = digt_list_test[i,1]\n",
    "\n",
    "black_train = new_train_df[:,0].astype(int)\n",
    "white_train = new_train_df[:,1].astype(int)\n",
    "n_values = np.max(black_train) + 1\n",
    "black_one_hot_train = torch.LongTensor(np.eye(n_values)[black_train])\n",
    "white_one_hot_train = torch.LongTensor(np.eye(n_values)[white_train])\n",
    "black_white_one_hot_train = torch.cat((black_one_hot_train,white_one_hot_train), 1)\n",
    "depth_black_train = torch.LongTensor(cols_train[:,0]).view(9800, -1)\n",
    "depth_black_white_one_hot_train = torch.cat((depth_black_train, black_white_one_hot_train),1)\n",
    "depth_black_white_one_hot_train[0:5, :]"
   ]
  },
  {
   "cell_type": "code",
   "execution_count": 185,
   "metadata": {},
   "outputs": [
    {
     "name": "stdout",
     "output_type": "stream",
     "text": [
      "torch.Size([10000, 20])\n",
      "torch.Size([10000, 1])\n"
     ]
    },
    {
     "data": {
      "text/plain": [
       "tensor([[1, 0, 1, 0, 0, 0, 0, 0, 0, 0, 0, 0, 0, 0, 0, 0, 0, 0, 1, 0, 0],\n",
       "        [1, 0, 0, 1, 0, 0, 0, 0, 0, 0, 0, 0, 0, 0, 0, 0, 0, 1, 0, 0, 0],\n",
       "        [1, 0, 0, 0, 0, 0, 0, 0, 0, 0, 1, 0, 0, 0, 1, 0, 0, 0, 0, 0, 0],\n",
       "        [0, 1, 0, 0, 0, 0, 0, 0, 0, 0, 0, 0, 0, 0, 0, 0, 0, 0, 1, 0, 0],\n",
       "        [0, 0, 0, 0, 0, 0, 0, 0, 1, 0, 0, 0, 0, 0, 1, 0, 0, 0, 0, 0, 0]])"
      ]
     },
     "execution_count": 185,
     "metadata": {},
     "output_type": "execute_result"
    }
   ],
   "source": [
    "back = digt_list[:,0]\n",
    "front =digt_list[:,1]\n",
    "n_values = np.max(back) + 1\n",
    "back_one_hot = torch.LongTensor(np.eye(n_values)[back])\n",
    "front_one_hot = torch.LongTensor(np.eye(n_values)[front])\n",
    "back_front_one_hot = torch.cat((back_one_hot,front_one_hot),1)\n",
    "col_back = torch.LongTensor(cols[:,0]).view(10000, -1)\n",
    "col_back_front_one_hot = torch.cat((col_back, back_front_one_hot),1)\n",
    "col_back_front_one_hot[0:5, :]"
   ]
  },
  {
   "cell_type": "code",
   "execution_count": 187,
   "metadata": {},
   "outputs": [
    {
     "data": {
      "text/plain": [
       "tensor([[0, 1, 0, 0, 0, 0, 0, 1, 0, 0],\n",
       "        [0, 0, 1, 0, 0, 0, 1, 0, 0, 0],\n",
       "        [0, 0, 0, 1, 0, 0, 0, 0, 0, 1],\n",
       "        [1, 0, 0, 0, 0, 0, 0, 1, 0, 0],\n",
       "        [0, 0, 0, 1, 0, 0, 0, 1, 0, 0]])"
      ]
     },
     "execution_count": 187,
     "metadata": {},
     "output_type": "execute_result"
    }
   ],
   "source": [
    "joint_digts_id = front_one_hot + back_one_hot\n",
    "joint_digts_id[0:5, :]"
   ]
  },
  {
   "cell_type": "code",
   "execution_count": null,
   "metadata": {},
   "outputs": [],
   "source": []
  },
  {
   "cell_type": "code",
   "execution_count": null,
   "metadata": {},
   "outputs": [],
   "source": []
  },
  {
   "cell_type": "code",
   "execution_count": null,
   "metadata": {},
   "outputs": [],
   "source": []
  },
  {
   "cell_type": "code",
   "execution_count": null,
   "metadata": {},
   "outputs": [],
   "source": []
  },
  {
   "cell_type": "code",
   "execution_count": 288,
   "metadata": {},
   "outputs": [],
   "source": [
    "pickle.dump(fname_list, open( \"{}/fname_list.p\".format(FILENAME), \"wb\" ) )\n",
    "pickle.dump(clutter_list, open( \"{}/clutter_list.p\".format(FILENAME), \"wb\" ) )"
   ]
  },
  {
   "cell_type": "code",
   "execution_count": null,
   "metadata": {},
   "outputs": [],
   "source": []
  },
  {
   "cell_type": "code",
   "execution_count": 50,
   "metadata": {},
   "outputs": [],
   "source": [
    "fname_list = pickle.load(open(\"{}/fname_list.p\".format(FILENAME), \"rb\" ) )\n",
    "clutter_list = pickle.load(open(\"{}/clutter_list.p\".format(FILENAME), \"rb\" ) )"
   ]
  },
  {
   "cell_type": "code",
   "execution_count": 51,
   "metadata": {},
   "outputs": [
    {
     "name": "stdout",
     "output_type": "stream",
     "text": [
      "Using /Users/riccardoconci/Desktop/code/Zuckerman_Project/Dataset/temp_workspace as the working directory\n",
      "Resizing the images\n",
      "/Users/riccardoconci/Desktop/code/Zuckerman_Project/Dataset/temp_workspace/resized\n",
      "Generating image arrays\n",
      "Generating target arrays\n",
      "Images and target arrays saved to /Users/riccardoconci/Desktop/code/Zuckerman_Project/Dataset/test.mat\n"
     ]
    }
   ],
   "source": [
    "#fname_list = [cl.fname for cl in clutter_list]\n",
    "images_dict = io_mod.save_images_as_mat(abspath('{}/digts.mat'.format(FILENAME)),\n",
    "                                        clutter_list, (64,64), fname_list=fname_list, \n",
    "                                        overwrite_wdir=True, grayscale=True)"
   ]
  },
  {
   "cell_type": "code",
   "execution_count": 52,
   "metadata": {},
   "outputs": [],
   "source": [
    "pickle.dump(images_dict, open( \"{}/images_dict.p\".format(FILENAME), \"wb\" ) )"
   ]
  },
  {
   "cell_type": "code",
   "execution_count": 54,
   "metadata": {},
   "outputs": [],
   "source": [
    "loaded_image_dict = pickle.load( open( \"{}/images_dict.p\".format(FILENAME), \"rb\" ) )"
   ]
  },
  {
   "cell_type": "code",
   "execution_count": 60,
   "metadata": {},
   "outputs": [
    {
     "data": {
      "text/plain": [
       "<matplotlib.image.AxesImage at 0x109737cc0>"
      ]
     },
     "execution_count": 60,
     "metadata": {},
     "output_type": "execute_result"
    },
    {
     "data": {
      "text/plain": [
       "<Figure size 7200x7200 with 0 Axes>"
      ]
     },
     "metadata": {},
     "output_type": "display_data"
    },
    {
     "data": {
      "image/png": "[encoded data removed]",
      "text/plain": [
       "<Figure size 288x288 with 1 Axes>"
      ]
     },
     "metadata": {
      "needs_background": "light"
     },
     "output_type": "display_data"
    }
   ],
   "source": [
    "plt.figure(figsize=(100,100))\n",
    "plt.matshow(images_dict['images'][4,:,:,0], cmap = plt.cm.gray, vmin=0, vmax=60)"
   ]
  },
  {
   "cell_type": "code",
   "execution_count": 20,
   "metadata": {},
   "outputs": [
    {
     "name": "stdout",
     "output_type": "stream",
     "text": [
      "9000 1000\n"
     ]
    }
   ],
   "source": [
    "fulldatasize = int(images_dict[\"images\"].shape[0]/2)\n",
    "training_size = int(fulldatasize*0.9)\n",
    "test_size = int(fulldatasize - training_size)\n",
    "print(training_size, test_size)"
   ]
  },
  {
   "cell_type": "code",
   "execution_count": null,
   "metadata": {},
   "outputs": [],
   "source": []
  },
  {
   "cell_type": "code",
   "execution_count": 46,
   "metadata": {},
   "outputs": [
    {
     "ename": "NameError",
     "evalue": "name 'images_dict' is not defined",
     "output_type": "error",
     "traceback": [
      "\u001b[0;31m---------------------------------------------------------------------------\u001b[0m",
      "\u001b[0;31mNameError\u001b[0m                                 Traceback (most recent call last)",
      "\u001b[0;32m<ipython-input-46-389a0b4e1210>\u001b[0m in \u001b[0;36m<module>\u001b[0;34m\u001b[0m\n\u001b[0;32m----> 1\u001b[0;31m \u001b[0mx_train\u001b[0m \u001b[0;34m=\u001b[0m \u001b[0mimages_dict\u001b[0m\u001b[0;34m[\u001b[0m\u001b[0;34m\"images\"\u001b[0m\u001b[0;34m]\u001b[0m\u001b[0;34m[\u001b[0m\u001b[0mnp\u001b[0m\u001b[0;34m.\u001b[0m\u001b[0marange\u001b[0m\u001b[0;34m(\u001b[0m\u001b[0;36m0\u001b[0m\u001b[0;34m,\u001b[0m \u001b[0;36m2\u001b[0m\u001b[0;34m*\u001b[0m\u001b[0mtraining_size\u001b[0m\u001b[0;34m,\u001b[0m \u001b[0mstep\u001b[0m\u001b[0;34m=\u001b[0m\u001b[0;36m2\u001b[0m\u001b[0;34m)\u001b[0m\u001b[0;34m,\u001b[0m\u001b[0;34m:\u001b[0m\u001b[0;34m,\u001b[0m\u001b[0;34m:\u001b[0m\u001b[0;34m,\u001b[0m\u001b[0;36m0\u001b[0m\u001b[0;34m]\u001b[0m\u001b[0;34m\u001b[0m\u001b[0;34m\u001b[0m\u001b[0m\n\u001b[0m\u001b[1;32m      2\u001b[0m \u001b[0my_train\u001b[0m \u001b[0;34m=\u001b[0m \u001b[0mimages_dict\u001b[0m\u001b[0;34m[\u001b[0m\u001b[0;34m\"images\"\u001b[0m\u001b[0;34m]\u001b[0m\u001b[0;34m[\u001b[0m\u001b[0mnp\u001b[0m\u001b[0;34m.\u001b[0m\u001b[0marange\u001b[0m\u001b[0;34m(\u001b[0m\u001b[0;36m1\u001b[0m\u001b[0;34m,\u001b[0m \u001b[0;36m2\u001b[0m\u001b[0;34m*\u001b[0m\u001b[0mtraining_size\u001b[0m\u001b[0;34m,\u001b[0m \u001b[0mstep\u001b[0m\u001b[0;34m=\u001b[0m\u001b[0;36m2\u001b[0m\u001b[0;34m)\u001b[0m\u001b[0;34m,\u001b[0m\u001b[0;34m:\u001b[0m\u001b[0;34m,\u001b[0m\u001b[0;34m:\u001b[0m\u001b[0;34m,\u001b[0m\u001b[0;36m0\u001b[0m\u001b[0;34m]\u001b[0m\u001b[0;34m\u001b[0m\u001b[0;34m\u001b[0m\u001b[0m\n\u001b[1;32m      3\u001b[0m \u001b[0mx_test\u001b[0m \u001b[0;34m=\u001b[0m \u001b[0mimages_dict\u001b[0m\u001b[0;34m[\u001b[0m\u001b[0;34m\"images\"\u001b[0m\u001b[0;34m]\u001b[0m\u001b[0;34m[\u001b[0m\u001b[0mnp\u001b[0m\u001b[0;34m.\u001b[0m\u001b[0marange\u001b[0m\u001b[0;34m(\u001b[0m\u001b[0;36m2\u001b[0m\u001b[0;34m*\u001b[0m\u001b[0mtraining_size\u001b[0m\u001b[0;34m,\u001b[0m\u001b[0;36m2\u001b[0m\u001b[0;34m*\u001b[0m\u001b[0mfulldatasize\u001b[0m\u001b[0;34m,\u001b[0m \u001b[0mstep\u001b[0m\u001b[0;34m=\u001b[0m\u001b[0;36m2\u001b[0m\u001b[0;34m)\u001b[0m\u001b[0;34m,\u001b[0m\u001b[0;34m:\u001b[0m\u001b[0;34m,\u001b[0m\u001b[0;34m:\u001b[0m\u001b[0;34m,\u001b[0m\u001b[0;36m0\u001b[0m\u001b[0;34m]\u001b[0m\u001b[0;34m\u001b[0m\u001b[0;34m\u001b[0m\u001b[0m\n\u001b[1;32m      4\u001b[0m \u001b[0my_test\u001b[0m \u001b[0;34m=\u001b[0m \u001b[0mimages_dict\u001b[0m\u001b[0;34m[\u001b[0m\u001b[0;34m\"images\"\u001b[0m\u001b[0;34m]\u001b[0m\u001b[0;34m[\u001b[0m\u001b[0mnp\u001b[0m\u001b[0;34m.\u001b[0m\u001b[0marange\u001b[0m\u001b[0;34m(\u001b[0m\u001b[0;36m2\u001b[0m\u001b[0;34m*\u001b[0m\u001b[0mtraining_size\u001b[0m\u001b[0;34m+\u001b[0m\u001b[0;36m1\u001b[0m\u001b[0;34m,\u001b[0m \u001b[0;36m2\u001b[0m\u001b[0;34m*\u001b[0m\u001b[0mfulldatasize\u001b[0m\u001b[0;34m,\u001b[0m \u001b[0mstep\u001b[0m\u001b[0;34m=\u001b[0m\u001b[0;36m2\u001b[0m\u001b[0;34m)\u001b[0m\u001b[0;34m,\u001b[0m\u001b[0;34m:\u001b[0m\u001b[0;34m,\u001b[0m\u001b[0;34m:\u001b[0m\u001b[0;34m,\u001b[0m\u001b[0;36m0\u001b[0m\u001b[0;34m]\u001b[0m\u001b[0;34m\u001b[0m\u001b[0;34m\u001b[0m\u001b[0m\n\u001b[1;32m      5\u001b[0m \u001b[0;34m\u001b[0m\u001b[0m\n",
      "\u001b[0;31mNameError\u001b[0m: name 'images_dict' is not defined"
     ]
    }
   ],
   "source": [
    "x_train = images_dict[\"images\"][np.arange(0, 2*training_size, step=2),:,:,0]\n",
    "y_train = images_dict[\"images\"][np.arange(1, 2*training_size, step=2),:,:,0]\n",
    "x_test = images_dict[\"images\"][np.arange(2*training_size,2*fulldatasize, step=2),:,:,0]\n",
    "y_test = images_dict[\"images\"][np.arange(2*training_size+1, 2*fulldatasize, step=2),:,:,0]\n",
    "\n"
   ]
  },
  {
   "cell_type": "code",
   "execution_count": 45,
   "metadata": {},
   "outputs": [
    {
     "ename": "NameError",
     "evalue": "name 'x_train' is not defined",
     "output_type": "error",
     "traceback": [
      "\u001b[0;31m---------------------------------------------------------------------------\u001b[0m",
      "\u001b[0;31mNameError\u001b[0m                                 Traceback (most recent call last)",
      "\u001b[0;32m<ipython-input-45-1ed20c90d37e>\u001b[0m in \u001b[0;36m<module>\u001b[0;34m\u001b[0m\n\u001b[0;32m----> 1\u001b[0;31m \u001b[0mtrain_object\u001b[0m \u001b[0;34m=\u001b[0m \u001b[0;34m(\u001b[0m\u001b[0mx_train\u001b[0m\u001b[0;34m,\u001b[0m \u001b[0my_train\u001b[0m\u001b[0;34m)\u001b[0m\u001b[0;34m\u001b[0m\u001b[0;34m\u001b[0m\u001b[0m\n\u001b[0m",
      "\u001b[0;31mNameError\u001b[0m: name 'x_train' is not defined"
     ]
    }
   ],
   "source": [
    "train_object = (x_train, y_train)"
   ]
  },
  {
   "cell_type": "code",
   "execution_count": 24,
   "metadata": {},
   "outputs": [
    {
     "name": "stdout",
     "output_type": "stream",
     "text": [
      "(9000, 60, 60)\n",
      "(9000, 60, 60)\n",
      "(1000, 60, 60)\n",
      "(1000, 60, 60)\n"
     ]
    }
   ],
   "source": [
    "print(x_train.shape)\n",
    "print(y_train.shape)\n",
    "print(x_test.shape)\n",
    "print(y_test.shape)"
   ]
  },
  {
   "cell_type": "code",
   "execution_count": 25,
   "metadata": {},
   "outputs": [
    {
     "name": "stdout",
     "output_type": "stream",
     "text": [
      "(9000, 3600)\n",
      "(9000, 3600)\n",
      "(1000, 3600)\n",
      "(1000, 3600)\n"
     ]
    }
   ],
   "source": [
    "x_train = x_train.astype('float32') / 85.\n",
    "x_test = x_test.astype('float32') / 85.\n",
    "x_train = x_train.reshape( (len(x_train), np.prod(x_train.shape[1:]) ) )\n",
    "x_test = x_test.reshape((len(x_test), np.prod(x_test.shape[1:])))\n",
    "y_train = y_train.astype('float32') / 85.\n",
    "y_test = y_test.astype('float32') / 85.\n",
    "y_train = y_train.reshape( (len(y_train), np.prod(y_train.shape[1:]) ) )\n",
    "y_test = y_test.reshape( (len(y_test), np.prod(y_test.shape[1:]) ) )\n",
    "\n",
    "print(x_train.shape)\n",
    "print(y_train.shape)\n",
    "\n",
    "print(x_test.shape)\n",
    "print(y_test.shape)"
   ]
  },
  {
   "cell_type": "markdown",
   "metadata": {},
   "source": [
    "## Basic autoencoder model"
   ]
  },
  {
   "cell_type": "code",
   "execution_count": 341,
   "metadata": {},
   "outputs": [],
   "source": [
    "from keras.layers import Input, Dense\n",
    "from keras.models import Model\n",
    "\n",
    "# this is the size of our encoded representations\n",
    "encoding_dim = 60  # 32 floats -> compression of factor 24.5, assuming the input is 784 floats\n",
    "\n",
    "# this is our input placeholder\n",
    "input_img = Input(shape=(x_train.shape[1],))\n",
    "# \"encoded\" is the encoded representation of the input\n",
    "encoded = Dense(encoding_dim, activation='relu')(input_img)\n",
    "# \"decoded\" is the lossy reconstruction of the input\n",
    "decoded = Dense(y_train.shape[1], activation='sigmoid')(encoded)\n",
    "\n",
    "# this model maps an input to its reconstruction\n",
    "autoencoder = Model(input_img, decoded)"
   ]
  },
  {
   "cell_type": "code",
   "execution_count": 342,
   "metadata": {},
   "outputs": [],
   "source": [
    "# this model maps an input to its encoded representation\n",
    "encoder = Model(input_img, encoded)\n",
    "# create a placeholder for an encoded (32-dimensional) input\n",
    "encoded_input = Input(shape=(encoding_dim,))\n",
    "# retrieve the last layer of the autoencoder model\n",
    "decoder_layer = autoencoder.layers[-1]\n",
    "# create the decoder model\n",
    "decoder = Model(encoded_input, decoder_layer(encoded_input))"
   ]
  },
  {
   "cell_type": "code",
   "execution_count": 343,
   "metadata": {},
   "outputs": [],
   "source": [
    "autoencoder.compile(optimizer='adadelta', loss='binary_crossentropy')"
   ]
  },
  {
   "cell_type": "code",
   "execution_count": 344,
   "metadata": {},
   "outputs": [
    {
     "name": "stdout",
     "output_type": "stream",
     "text": [
      "Train on 4000 samples, validate on 1000 samples\n",
      "Epoch 1/50\n",
      "4000/4000 [==============================] - 5s 1ms/step - loss: 0.6935 - val_loss: 0.6929\n",
      "Epoch 2/50\n",
      "4000/4000 [==============================] - 3s 848us/step - loss: 0.6926 - val_loss: 0.6922\n",
      "Epoch 3/50\n",
      "4000/4000 [==============================] - 4s 923us/step - loss: 0.6916 - val_loss: 0.6907\n",
      "Epoch 4/50\n",
      "4000/4000 [==============================] - 3s 839us/step - loss: 0.6894 - val_loss: 0.6872\n",
      "Epoch 5/50\n",
      "4000/4000 [==============================] - 3s 820us/step - loss: 0.6844 - val_loss: 0.6801\n",
      "Epoch 6/50\n",
      "4000/4000 [==============================] - 3s 837us/step - loss: 0.6753 - val_loss: 0.6690\n",
      "Epoch 7/50\n",
      "4000/4000 [==============================] - 3s 836us/step - loss: 0.6639 - val_loss: 0.6580\n",
      "Epoch 8/50\n",
      "4000/4000 [==============================] - 3s 824us/step - loss: 0.6549 - val_loss: 0.6513\n",
      "Epoch 9/50\n",
      "4000/4000 [==============================] - 3s 824us/step - loss: 0.6501 - val_loss: 0.6483\n",
      "Epoch 10/50\n",
      "4000/4000 [==============================] - 3s 834us/step - loss: 0.6481 - val_loss: 0.6471\n",
      "Epoch 11/50\n",
      "4000/4000 [==============================] - 4s 897us/step - loss: 0.6474 - val_loss: 0.6467\n",
      "Epoch 12/50\n",
      "4000/4000 [==============================] - 3s 847us/step - loss: 0.6471 - val_loss: 0.6465\n",
      "Epoch 13/50\n",
      "4000/4000 [==============================] - 3s 829us/step - loss: 0.6470 - val_loss: 0.6465\n",
      "Epoch 14/50\n",
      "4000/4000 [==============================] - 4s 891us/step - loss: 0.6469 - val_loss: 0.6464\n",
      "Epoch 15/50\n",
      "4000/4000 [==============================] - 3s 833us/step - loss: 0.6469 - val_loss: 0.6464\n",
      "Epoch 16/50\n",
      "4000/4000 [==============================] - 3s 841us/step - loss: 0.6469 - val_loss: 0.6464\n",
      "Epoch 17/50\n",
      "4000/4000 [==============================] - 4s 889us/step - loss: 0.6469 - val_loss: 0.6464\n",
      "Epoch 18/50\n",
      "4000/4000 [==============================] - 3s 834us/step - loss: 0.6469 - val_loss: 0.6464\n",
      "Epoch 19/50\n",
      "4000/4000 [==============================] - 3s 854us/step - loss: 0.6469 - val_loss: 0.6464\n",
      "Epoch 20/50\n",
      "4000/4000 [==============================] - 3s 836us/step - loss: 0.6469 - val_loss: 0.6464\n",
      "Epoch 21/50\n",
      "4000/4000 [==============================] - 4s 921us/step - loss: 0.6469 - val_loss: 0.6464\n",
      "Epoch 22/50\n",
      "4000/4000 [==============================] - 4s 916us/step - loss: 0.6469 - val_loss: 0.6464\n",
      "Epoch 23/50\n",
      "4000/4000 [==============================] - 3s 862us/step - loss: 0.6469 - val_loss: 0.6464\n",
      "Epoch 24/50\n",
      "4000/4000 [==============================] - 4s 913us/step - loss: 0.6469 - val_loss: 0.6464\n",
      "Epoch 25/50\n",
      "4000/4000 [==============================] - 3s 867us/step - loss: 0.6469 - val_loss: 0.6464\n",
      "Epoch 26/50\n",
      "4000/4000 [==============================] - 4s 924us/step - loss: 0.6469 - val_loss: 0.6464\n",
      "Epoch 27/50\n",
      "4000/4000 [==============================] - 3s 858us/step - loss: 0.6469 - val_loss: 0.6464\n",
      "Epoch 28/50\n",
      "4000/4000 [==============================] - 4s 903us/step - loss: 0.6469 - val_loss: 0.6464\n",
      "Epoch 29/50\n",
      "4000/4000 [==============================] - 3s 838us/step - loss: 0.6469 - val_loss: 0.6464\n",
      "Epoch 30/50\n",
      "4000/4000 [==============================] - 3s 848us/step - loss: 0.6469 - val_loss: 0.6464\n",
      "Epoch 31/50\n",
      "4000/4000 [==============================] - 3s 837us/step - loss: 0.6469 - val_loss: 0.6464\n",
      "Epoch 32/50\n",
      "4000/4000 [==============================] - 3s 840us/step - loss: 0.6469 - val_loss: 0.6464\n",
      "Epoch 33/50\n",
      "4000/4000 [==============================] - 4s 926us/step - loss: 0.6469 - val_loss: 0.6463\n",
      "Epoch 34/50\n",
      "4000/4000 [==============================] - 3s 829us/step - loss: 0.6469 - val_loss: 0.6463\n",
      "Epoch 35/50\n",
      "4000/4000 [==============================] - 3s 834us/step - loss: 0.6469 - val_loss: 0.6463\n",
      "Epoch 36/50\n",
      "4000/4000 [==============================] - 3s 832us/step - loss: 0.6468 - val_loss: 0.6463\n",
      "Epoch 37/50\n",
      "4000/4000 [==============================] - 3s 836us/step - loss: 0.6468 - val_loss: 0.6463\n",
      "Epoch 38/50\n",
      "4000/4000 [==============================] - 3s 827us/step - loss: 0.6468 - val_loss: 0.6463\n",
      "Epoch 39/50\n",
      "4000/4000 [==============================] - 3s 839us/step - loss: 0.6468 - val_loss: 0.6463\n",
      "Epoch 40/50\n",
      "4000/4000 [==============================] - 3s 856us/step - loss: 0.6468 - val_loss: 0.6463\n",
      "Epoch 41/50\n",
      "4000/4000 [==============================] - 4s 890us/step - loss: 0.6468 - val_loss: 0.6463\n",
      "Epoch 42/50\n",
      "4000/4000 [==============================] - 3s 835us/step - loss: 0.6468 - val_loss: 0.6463\n",
      "Epoch 43/50\n",
      "4000/4000 [==============================] - 3s 826us/step - loss: 0.6468 - val_loss: 0.6463\n",
      "Epoch 44/50\n",
      "4000/4000 [==============================] - 3s 840us/step - loss: 0.6468 - val_loss: 0.6463\n",
      "Epoch 45/50\n",
      "4000/4000 [==============================] - 3s 814us/step - loss: 0.6468 - val_loss: 0.6463\n",
      "Epoch 46/50\n",
      "4000/4000 [==============================] - 3s 814us/step - loss: 0.6468 - val_loss: 0.6463\n",
      "Epoch 47/50\n",
      "4000/4000 [==============================] - 3s 836us/step - loss: 0.6468 - val_loss: 0.6463\n",
      "Epoch 48/50\n",
      "4000/4000 [==============================] - 3s 812us/step - loss: 0.6468 - val_loss: 0.6463\n",
      "Epoch 49/50\n",
      "4000/4000 [==============================] - 3s 850us/step - loss: 0.6468 - val_loss: 0.6463\n",
      "Epoch 50/50\n",
      "4000/4000 [==============================] - 3s 832us/step - loss: 0.6468 - val_loss: 0.6463\n"
     ]
    },
    {
     "data": {
      "text/plain": [
       "<keras.callbacks.History at 0xb4bab3dd8>"
      ]
     },
     "execution_count": 344,
     "metadata": {},
     "output_type": "execute_result"
    }
   ],
   "source": [
    "autoencoder.fit(x_train, y_train,\n",
    "                epochs=50,\n",
    "                batch_size=256,\n",
    "                shuffle=True,\n",
    "                validation_data=(x_test, y_test))"
   ]
  },
  {
   "cell_type": "code",
   "execution_count": 32,
   "metadata": {},
   "outputs": [
    {
     "ename": "NameError",
     "evalue": "name 'encoder' is not defined",
     "output_type": "error",
     "traceback": [
      "\u001b[0;31m---------------------------------------------------------------------------\u001b[0m",
      "\u001b[0;31mNameError\u001b[0m                                 Traceback (most recent call last)",
      "\u001b[0;32m<ipython-input-32-0417de468984>\u001b[0m in \u001b[0;36m<module>\u001b[0;34m\u001b[0m\n\u001b[1;32m      1\u001b[0m \u001b[0;31m# encode and decode some digits\u001b[0m\u001b[0;34m\u001b[0m\u001b[0;34m\u001b[0m\u001b[0;34m\u001b[0m\u001b[0m\n\u001b[1;32m      2\u001b[0m \u001b[0;31m# note that we take them from the *test* set\u001b[0m\u001b[0;34m\u001b[0m\u001b[0;34m\u001b[0m\u001b[0;34m\u001b[0m\u001b[0m\n\u001b[0;32m----> 3\u001b[0;31m \u001b[0mencoded_imgs\u001b[0m \u001b[0;34m=\u001b[0m \u001b[0mencoder\u001b[0m\u001b[0;34m.\u001b[0m\u001b[0mpredict\u001b[0m\u001b[0;34m(\u001b[0m\u001b[0mx_test\u001b[0m\u001b[0;34m)\u001b[0m\u001b[0;34m\u001b[0m\u001b[0;34m\u001b[0m\u001b[0m\n\u001b[0m\u001b[1;32m      4\u001b[0m \u001b[0mdecoded_imgs\u001b[0m \u001b[0;34m=\u001b[0m \u001b[0mdecoder\u001b[0m\u001b[0;34m.\u001b[0m\u001b[0mpredict\u001b[0m\u001b[0;34m(\u001b[0m\u001b[0mencoded_imgs\u001b[0m\u001b[0;34m)\u001b[0m\u001b[0;34m\u001b[0m\u001b[0;34m\u001b[0m\u001b[0m\n",
      "\u001b[0;31mNameError\u001b[0m: name 'encoder' is not defined"
     ]
    }
   ],
   "source": [
    "# encode and decode some digits\n",
    "# note that we take them from the *test* set\n",
    "encoded_imgs = encoder.predict(x_test)\n",
    "decoded_imgs = decoder.predict(encoded_imgs)"
   ]
  },
  {
   "cell_type": "code",
   "execution_count": null,
   "metadata": {},
   "outputs": [],
   "source": [
    "# use Matplotlib (don't ask)\n",
    "import matplotlib.pyplot as plt\n",
    "%matplotlib inline\n",
    "n = 4  # how many digits we will display\n",
    "plt.figure(figsize=(20, 4))\n",
    "for i in range(n):\n",
    "    # display original\n",
    "    ax = plt.subplot(2, n, i + 1)\n",
    "    plt.imshow(x_test[i].reshape(60, 60))\n",
    "    plt.gray()\n",
    "    ax.get_xaxis().set_visible(False)\n",
    "    ax.get_yaxis().set_visible(False)\n",
    "\n",
    "    # display reconstruction\n",
    "    ax = plt.subplot(2, n, i + 1 + n)\n",
    "    plt.imshow(decoded_imgs[i].reshape(60, 60))\n",
    "    plt.gray()\n",
    "    ax.get_xaxis().set_visible(False)\n",
    "    ax.get_yaxis().set_visible(False)\n",
    "plt.show()"
   ]
  },
  {
   "cell_type": "markdown",
   "metadata": {},
   "source": [
    "## Adding a sparsity constraint on the encoded representations\n",
    "In the previous example, the representations were only constrained by the size of the hidden layer (32). In such a situation, what typically happens is that the hidden layer is learning an approximation of PCA (principal component analysis). But another way to constrain the representations to be compact is to add a sparsity contraint on the activity of the hidden representations, so fewer units would \"fire\" at a given time. In Keras, this can be done by adding an activity_regularizer to our Dense layer:"
   ]
  },
  {
   "cell_type": "code",
   "execution_count": 26,
   "metadata": {},
   "outputs": [
    {
     "name": "stderr",
     "output_type": "stream",
     "text": [
      "/Users/riccardoconci/anaconda3/envs/compneuro/lib/python3.7/importlib/_bootstrap.py:219: RuntimeWarning: numpy.dtype size changed, may indicate binary incompatibility. Expected 88 from C header, got 96 from PyObject\n",
      "  return f(*args, **kwds)\n",
      "Using TensorFlow backend.\n"
     ]
    },
    {
     "ename": "NameError",
     "evalue": "name 'Input' is not defined",
     "output_type": "error",
     "traceback": [
      "\u001b[0;31m---------------------------------------------------------------------------\u001b[0m",
      "\u001b[0;31mNameError\u001b[0m                                 Traceback (most recent call last)",
      "\u001b[0;32m<ipython-input-26-a44b99efef90>\u001b[0m in \u001b[0;36m<module>\u001b[0;34m\u001b[0m\n\u001b[1;32m      3\u001b[0m \u001b[0mencoding_dim\u001b[0m \u001b[0;34m=\u001b[0m \u001b[0;36m60\u001b[0m\u001b[0;34m\u001b[0m\u001b[0;34m\u001b[0m\u001b[0m\n\u001b[1;32m      4\u001b[0m \u001b[0;34m\u001b[0m\u001b[0m\n\u001b[0;32m----> 5\u001b[0;31m \u001b[0minput_img\u001b[0m \u001b[0;34m=\u001b[0m \u001b[0mInput\u001b[0m\u001b[0;34m(\u001b[0m\u001b[0mshape\u001b[0m\u001b[0;34m=\u001b[0m\u001b[0;34m(\u001b[0m\u001b[0mx_train\u001b[0m\u001b[0;34m.\u001b[0m\u001b[0mshape\u001b[0m\u001b[0;34m[\u001b[0m\u001b[0;36m1\u001b[0m\u001b[0;34m]\u001b[0m\u001b[0;34m,\u001b[0m\u001b[0;34m)\u001b[0m\u001b[0;34m)\u001b[0m\u001b[0;34m\u001b[0m\u001b[0;34m\u001b[0m\u001b[0m\n\u001b[0m\u001b[1;32m      6\u001b[0m \u001b[0;31m# add a Dense layer with a L1 activity regularizer\u001b[0m\u001b[0;34m\u001b[0m\u001b[0;34m\u001b[0m\u001b[0;34m\u001b[0m\u001b[0m\n\u001b[1;32m      7\u001b[0m encoded = Dense(encoding_dim, activation='relu',\n",
      "\u001b[0;31mNameError\u001b[0m: name 'Input' is not defined"
     ]
    }
   ],
   "source": [
    "from keras import regularizers\n",
    "\n",
    "encoding_dim = 60\n",
    "\n",
    "input_img = Input(shape=(x_train.shape[1],))\n",
    "# add a Dense layer with a L1 activity regularizer\n",
    "encoded = Dense(encoding_dim, activation='relu',\n",
    "                activity_regularizer=regularizers.l1(10e-5))(input_img)\n",
    "decoded = Dense(y_train.shape[1], activation='sigmoid')(encoded)\n",
    "\n",
    "autoencoder = Model(input_img, decoded)"
   ]
  },
  {
   "cell_type": "code",
   "execution_count": null,
   "metadata": {},
   "outputs": [],
   "source": [
    "autoencoder.compile(optimizer='adadelta', loss='binary_crossentropy')"
   ]
  },
  {
   "cell_type": "code",
   "execution_count": null,
   "metadata": {},
   "outputs": [],
   "source": [
    "autoencoder.fit(x_train, y_train,\n",
    "                epochs=100,\n",
    "                batch_size=256,\n",
    "                shuffle=True,\n",
    "                validation_data=(x_test, y_test))"
   ]
  },
  {
   "cell_type": "code",
   "execution_count": null,
   "metadata": {},
   "outputs": [],
   "source": [
    "# encode and decode some digits\n",
    "# note that we take them from the *test* set\n",
    "encoded_imgs = encoder.predict(x_test)\n",
    "decoded_imgs = decoder.predict(encoded_imgs)"
   ]
  },
  {
   "cell_type": "code",
   "execution_count": null,
   "metadata": {},
   "outputs": [],
   "source": [
    "\n",
    "n = 10  # how many digits we will display\n",
    "plt.figure(figsize=(20, 4))\n",
    "for i in range(n):\n",
    "    # display original\n",
    "    ax = plt.subplot(2, n, i + 1)\n",
    "    plt.imshow(x_test[i].reshape(60, 60))\n",
    "    plt.gray()\n",
    "    ax.get_xaxis().set_visible(False)\n",
    "    ax.get_yaxis().set_visible(False)\n",
    "\n",
    "    # display reconstruction\n",
    "    ax = plt.subplot(2, n, i + 1 + n)\n",
    "    plt.imshow(decoded_imgs[i].reshape(60, 60))\n",
    "    plt.gray()\n",
    "    ax.get_xaxis().set_visible(False)\n",
    "    ax.get_yaxis().set_visible(False)\n",
    "plt.show()"
   ]
  },
  {
   "cell_type": "markdown",
   "metadata": {},
   "source": [
    "## Convolutional autoencoder\n",
    "Since our inputs are images, it makes sense to use convolutional neural networks (convnets) as encoders and decoders. In practical settings, autoencoders applied to images are always convolutional autoencoders --they simply perform much better.\n",
    "\n",
    "Let's implement one. The encoder will consist in a stack of Conv2D and MaxPooling2D layers (max pooling being used for spatial down-sampling), while the decoder will consist in a stack of Conv2D and UpSampling2D layers."
   ]
  },
  {
   "cell_type": "code",
   "execution_count": 27,
   "metadata": {},
   "outputs": [
    {
     "name": "stdout",
     "output_type": "stream",
     "text": [
      "WARNING:tensorflow:From /Users/riccardoconci/anaconda3/envs/compneuro/lib/python3.7/site-packages/tensorflow/python/framework/op_def_library.py:263: colocate_with (from tensorflow.python.framework.ops) is deprecated and will be removed in a future version.\n",
      "Instructions for updating:\n",
      "Colocations handled automatically by placer.\n"
     ]
    }
   ],
   "source": [
    "from keras.layers import Input, Dense, Conv2D, MaxPooling2D, UpSampling2D\n",
    "from keras.models import Model\n",
    "from keras import backend as K\n",
    "\n",
    "\n",
    "input_img = Input(shape=(60, 60, 1))  # adapt this if using `channels_first` image data format\n",
    "\n",
    "x = Conv2D(16, (3, 3), activation='relu', padding='same')(input_img)\n",
    "x = MaxPooling2D((2, 2), padding='same')(x)\n",
    "x = Conv2D(8, (3, 3), activation='relu', padding='same')(x)\n",
    "x = MaxPooling2D((2, 2), padding='same')(x)\n",
    "x = Conv2D(8, (2, 2), activation='relu', padding='same')(x)\n",
    "encoded = MaxPooling2D((2, 2), padding='same')(x)\n",
    "\n",
    "# at this point the representation is (4, 4, 8) i.e. 128-dimensional\n",
    "\n",
    "x = Conv2D(8, (2, 2), activation='relu', padding='same')(encoded)\n",
    "x = UpSampling2D((2, 2))(x)\n",
    "x = Conv2D(8, (3, 3), activation='relu', padding='same')(x)\n",
    "x = UpSampling2D((2, 2))(x)\n",
    "x = Conv2D(16, (3, 3), activation='relu')(x)\n",
    "x = UpSampling2D((2, 2))(x)\n",
    "decoded = Conv2D(1, (3, 3), activation='sigmoid', padding='same')(x)\n",
    "\n",
    "autoencoder = Model(input_img, decoded)\n",
    "autoencoder.compile(optimizer='adam', loss='binary_crossentropy')\n"
   ]
  },
  {
   "cell_type": "code",
   "execution_count": 28,
   "metadata": {},
   "outputs": [
    {
     "name": "stdout",
     "output_type": "stream",
     "text": [
      "(9000, 60, 60, 1)\n",
      "(9000, 60, 60, 1)\n",
      "(1000, 60, 60, 1)\n",
      "(1000, 60, 60, 1)\n"
     ]
    }
   ],
   "source": [
    "x_train = images_dict[\"images\"][np.arange(0, 2*training_size, step=2),:,:,0]\n",
    "y_train = images_dict[\"images\"][np.arange(1, 2*training_size, step=2),:,:,0]\n",
    "x_test = images_dict[\"images\"][np.arange(2*training_size,2*fulldatasize, step=2),:,:,0]\n",
    "y_test = images_dict[\"images\"][np.arange(2*training_size+1, 2*fulldatasize, step=2),:,:,0]\n",
    "\n",
    "x_train = x_train.astype('float32') / 85.\n",
    "x_test = x_test.astype('float32') / 85.\n",
    "x_train = np.reshape(x_train, (len(x_train), 60, 60, 1))  # adapt this if using `channels_first` image data format\n",
    "x_test = np.reshape(x_test, (len(x_test), 60, 60, 1))  # adapt this if using `channels_first` image data format\n",
    "y_train = y_train.astype('float32') / 85.\n",
    "y_test = y_test.astype('float32') / 85.\n",
    "y_train = np.reshape(y_train, (len(y_train), 60, 60, 1))  # adapt this if using `channels_first` image data format\n",
    "y_test = np.reshape(y_test, (len(y_test), 60, 60, 1))  # adapt this if using `channels_first` image data format\n",
    "\n",
    "print(x_train.shape)\n",
    "print(y_train.shape)\n",
    "\n",
    "print(x_test.shape)\n",
    "print(y_test.shape)\n",
    "\n"
   ]
  },
  {
   "cell_type": "code",
   "execution_count": 31,
   "metadata": {},
   "outputs": [
    {
     "name": "stdout",
     "output_type": "stream",
     "text": [
      "WARNING:tensorflow:From /Users/riccardoconci/anaconda3/envs/compneuro/lib/python3.7/site-packages/tensorflow/python/ops/math_ops.py:3066: to_int32 (from tensorflow.python.ops.math_ops) is deprecated and will be removed in a future version.\n",
      "Instructions for updating:\n",
      "Use tf.cast instead.\n",
      "Train on 9000 samples, validate on 1000 samples\n",
      "Epoch 1/50\n",
      "9000/9000 [==============================] - 80s 9ms/step - loss: 0.6567 - val_loss: 0.6510\n",
      "Epoch 2/50\n",
      "9000/9000 [==============================] - 74s 8ms/step - loss: 0.6493 - val_loss: 0.6467\n",
      "Epoch 3/50\n",
      "9000/9000 [==============================] - 77s 9ms/step - loss: 0.6410 - val_loss: 0.6325\n",
      "Epoch 4/50\n",
      "9000/9000 [==============================] - 75s 8ms/step - loss: 0.6276 - val_loss: 0.6227\n",
      "Epoch 5/50\n",
      "9000/9000 [==============================] - 80s 9ms/step - loss: 0.6208 - val_loss: 0.6181\n",
      "Epoch 6/50\n",
      "9000/9000 [==============================] - 79s 9ms/step - loss: 0.6172 - val_loss: 0.6152\n",
      "Epoch 7/50\n",
      "9000/9000 [==============================] - 77s 9ms/step - loss: 0.6148 - val_loss: 0.6131\n",
      "Epoch 8/50\n",
      "9000/9000 [==============================] - 74s 8ms/step - loss: 0.6131 - val_loss: 0.6116\n",
      "Epoch 9/50\n",
      "9000/9000 [==============================] - 76s 8ms/step - loss: 0.6118 - val_loss: 0.6105\n",
      "Epoch 10/50\n",
      "9000/9000 [==============================] - 75s 8ms/step - loss: 0.6109 - val_loss: 0.6098\n",
      "Epoch 11/50\n",
      "9000/9000 [==============================] - 83s 9ms/step - loss: 0.6101 - val_loss: 0.6090\n",
      "Epoch 12/50\n",
      "9000/9000 [==============================] - 77s 9ms/step - loss: 0.6095 - val_loss: 0.6084\n",
      "Epoch 13/50\n",
      "9000/9000 [==============================] - 80s 9ms/step - loss: 0.6090 - val_loss: 0.6080\n",
      "Epoch 14/50\n",
      "9000/9000 [==============================] - 76s 8ms/step - loss: 0.6085 - val_loss: 0.6075\n",
      "Epoch 15/50\n",
      "9000/9000 [==============================] - 76s 8ms/step - loss: 0.6081 - val_loss: 0.6073\n",
      "Epoch 16/50\n",
      "9000/9000 [==============================] - 77s 9ms/step - loss: 0.6079 - val_loss: 0.6069\n",
      "Epoch 17/50\n",
      "9000/9000 [==============================] - 90s 10ms/step - loss: 0.6075 - val_loss: 0.6067\n",
      "Epoch 18/50\n",
      "9000/9000 [==============================] - 77s 9ms/step - loss: 0.6072 - val_loss: 0.6063\n",
      "Epoch 19/50\n",
      "9000/9000 [==============================] - 84s 9ms/step - loss: 0.6069 - val_loss: 0.6060\n",
      "Epoch 20/50\n",
      "9000/9000 [==============================] - 84s 9ms/step - loss: 0.6067 - val_loss: 0.6058\n",
      "Epoch 21/50\n",
      "9000/9000 [==============================] - 83s 9ms/step - loss: 0.6064 - val_loss: 0.6055\n",
      "Epoch 22/50\n",
      "9000/9000 [==============================] - 75s 8ms/step - loss: 0.6062 - val_loss: 0.6053\n",
      "Epoch 23/50\n",
      "9000/9000 [==============================] - 76s 8ms/step - loss: 0.6060 - val_loss: 0.6051\n",
      "Epoch 24/50\n",
      "9000/9000 [==============================] - 77s 9ms/step - loss: 0.6058 - val_loss: 0.6050\n",
      "Epoch 25/50\n",
      "9000/9000 [==============================] - 76s 8ms/step - loss: 0.6056 - val_loss: 0.6047\n",
      "Epoch 26/50\n",
      "9000/9000 [==============================] - 75s 8ms/step - loss: 0.6054 - val_loss: 0.6045\n",
      "Epoch 27/50\n",
      "9000/9000 [==============================] - 75s 8ms/step - loss: 0.6052 - val_loss: 0.6045\n",
      "Epoch 28/50\n",
      "9000/9000 [==============================] - 75s 8ms/step - loss: 0.6051 - val_loss: 0.6043\n",
      "Epoch 29/50\n",
      "9000/9000 [==============================] - 76s 8ms/step - loss: 0.6049 - val_loss: 0.6041\n",
      "Epoch 30/50\n",
      "9000/9000 [==============================] - 76s 8ms/step - loss: 0.6048 - val_loss: 0.6039\n",
      "Epoch 31/50\n",
      "9000/9000 [==============================] - 76s 8ms/step - loss: 0.6047 - val_loss: 0.6037\n",
      "Epoch 32/50\n",
      "9000/9000 [==============================] - 76s 8ms/step - loss: 0.6045 - val_loss: 0.6037\n",
      "Epoch 33/50\n",
      "9000/9000 [==============================] - 75s 8ms/step - loss: 0.6044 - val_loss: 0.6036\n",
      "Epoch 34/50\n",
      "9000/9000 [==============================] - 76s 8ms/step - loss: 0.6042 - val_loss: 0.6034\n",
      "Epoch 35/50\n",
      "9000/9000 [==============================] - 75s 8ms/step - loss: 0.6041 - val_loss: 0.6033\n",
      "Epoch 36/50\n",
      "9000/9000 [==============================] - 81s 9ms/step - loss: 0.6040 - val_loss: 0.6031\n",
      "Epoch 37/50\n",
      "9000/9000 [==============================] - 76s 8ms/step - loss: 0.6039 - val_loss: 0.6031\n",
      "Epoch 38/50\n",
      "9000/9000 [==============================] - 77s 9ms/step - loss: 0.6038 - val_loss: 0.6033\n",
      "Epoch 39/50\n",
      "9000/9000 [==============================] - 75s 8ms/step - loss: 0.6037 - val_loss: 0.6030\n",
      "Epoch 40/50\n",
      "9000/9000 [==============================] - 75s 8ms/step - loss: 0.6036 - val_loss: 0.6030\n",
      "Epoch 41/50\n",
      "9000/9000 [==============================] - 75s 8ms/step - loss: 0.6035 - val_loss: 0.6027\n",
      "Epoch 42/50\n",
      "9000/9000 [==============================] - 75s 8ms/step - loss: 0.6034 - val_loss: 0.6026\n",
      "Epoch 43/50\n",
      "9000/9000 [==============================] - 93s 10ms/step - loss: 0.6033 - val_loss: 0.6026\n",
      "Epoch 44/50\n",
      "9000/9000 [==============================] - 91s 10ms/step - loss: 0.6032 - val_loss: 0.6024\n",
      "Epoch 45/50\n",
      "9000/9000 [==============================] - 74s 8ms/step - loss: 0.6031 - val_loss: 0.6023\n",
      "Epoch 46/50\n",
      "9000/9000 [==============================] - 117s 13ms/step - loss: 0.6030 - val_loss: 0.6022\n",
      "Epoch 47/50\n",
      "9000/9000 [==============================] - 191s 21ms/step - loss: 0.6029 - val_loss: 0.6023\n",
      "Epoch 48/50\n",
      "9000/9000 [==============================] - 116s 13ms/step - loss: 0.6028 - val_loss: 0.6020\n",
      "Epoch 49/50\n",
      "9000/9000 [==============================] - 77s 9ms/step - loss: 0.6027 - val_loss: 0.6019\n",
      "Epoch 50/50\n",
      "9000/9000 [==============================] - 75s 8ms/step - loss: 0.6027 - val_loss: 0.6019\n"
     ]
    },
    {
     "data": {
      "text/plain": [
       "<keras.callbacks.History at 0x11d85de80>"
      ]
     },
     "execution_count": 31,
     "metadata": {},
     "output_type": "execute_result"
    }
   ],
   "source": [
    "from keras.callbacks import TensorBoard\n",
    "\n",
    "autoencoder.fit(x_train, x_train,\n",
    "                epochs=50,\n",
    "                batch_size=128,\n",
    "                shuffle=True,\n",
    "                validation_data=(x_test, x_test),\n",
    "                callbacks=[TensorBoard(log_dir='/tmp/autoencoder')])"
   ]
  },
  {
   "cell_type": "code",
   "execution_count": 33,
   "metadata": {},
   "outputs": [],
   "source": [
    "decoded_imgs = autoencoder.predict(x_test)\n"
   ]
  },
  {
   "cell_type": "code",
   "execution_count": 47,
   "metadata": {},
   "outputs": [
    {
     "data": {
      "image/png": "[encoded data removed]",
      "text/plain": [
       "<Figure size 1440x1440 with 4 Axes>"
      ]
     },
     "metadata": {
      "needs_background": "light"
     },
     "output_type": "display_data"
    }
   ],
   "source": [
    "\n",
    "n = 2  # how many digits we will display\n",
    "plt.figure(figsize=(20, 20))\n",
    "for i in range(n):\n",
    "    # display original\n",
    "    ax = plt.subplot(2, n, i + 1)\n",
    "    plt.imshow(x_test[i+15].reshape(60, 60))\n",
    "    plt.gray()\n",
    "    ax.get_xaxis().set_visible(False)\n",
    "    ax.get_yaxis().set_visible(False)\n",
    "\n",
    "    # display reconstruction\n",
    "    ax = plt.subplot(2, n, i + 1 + n)\n",
    "    plt.imshow(decoded_imgs[i+15].reshape(60, 60))\n",
    "    plt.gray()\n",
    "    ax.get_xaxis().set_visible(False)\n",
    "    ax.get_yaxis().set_visible(False)\n",
    "plt.show()"
   ]
  },
  {
   "cell_type": "code",
   "execution_count": null,
   "metadata": {},
   "outputs": [],
   "source": []
  }
 ],
 "metadata": {
  "kernelspec": {
   "display_name": "Python 3",
   "language": "python",
   "name": "python3"
  },
  "language_info": {
   "codemirror_mode": {
    "name": "ipython",
    "version": 3
   },
   "file_extension": ".py",
   "mimetype": "text/x-python",
   "name": "python",
   "nbconvert_exporter": "python",
   "pygments_lexer": "ipython3",
   "version": "3.7.3"
  }
 },
 "nbformat": 4,
 "nbformat_minor": 2
}
