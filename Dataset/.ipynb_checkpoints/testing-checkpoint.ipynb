{
 "cells": [
  {
   "cell_type": "code",
   "execution_count": 11,
   "metadata": {},
   "outputs": [],
   "source": [
    "import numpy as np"
   ]
  },
  {
   "cell_type": "code",
   "execution_count": 72,
   "metadata": {},
   "outputs": [],
   "source": [
    "\n"
   ]
  },
  {
   "cell_type": "code",
   "execution_count": 60,
   "metadata": {},
   "outputs": [],
   "source": []
  },
  {
   "cell_type": "code",
   "execution_count": 69,
   "metadata": {},
   "outputs": [
    {
     "data": {
      "text/plain": [
       "'1'"
      ]
     },
     "execution_count": 69,
     "metadata": {},
     "output_type": "execute_result"
    }
   ],
   "source": [
    "pairings[characters[0][0]]"
   ]
  },
  {
   "cell_type": "code",
   "execution_count": 91,
   "metadata": {},
   "outputs": [],
   "source": [
    "n_letters = 5"
   ]
  },
  {
   "cell_type": "code",
   "execution_count": 92,
   "metadata": {},
   "outputs": [
    {
     "data": {
      "text/plain": [
       "[array(['3'], dtype='<U1'),\n",
       " array(['4'], dtype='<U1'),\n",
       " array(['6'], dtype='<U1'),\n",
       " array(['0'], dtype='<U1'),\n",
       " array(['5'], dtype='<U1')]"
      ]
     },
     "execution_count": 92,
     "metadata": {},
     "output_type": "execute_result"
    }
   ],
   "source": [
    "DIGITS = ['0', '1', '2', '3', '4', '5', '6', '7', '8', '9']\n",
    "character_set = DIGITS\n",
    "\n",
    "characters=[]\n",
    "for i in range(n_letters):\n",
    "    characters.append(np.random.choice(character_set, 1, replace=False))\n",
    "    character_set.remove(characters[i][0])\n",
    "    character_set.remove(pairings[characters[i][0]] )\n",
    "\n",
    "characters"
   ]
  },
  {
   "cell_type": "code",
   "execution_count": 102,
   "metadata": {},
   "outputs": [
    {
     "name": "stdout",
     "output_type": "stream",
     "text": [
      "[array(['0'], dtype='<U1'), '7', array(['2'], dtype='<U1')]\n"
     ]
    }
   ],
   "source": [
    "n_letters = 2\n",
    "DIGITS = ['0', '1', '2', '3', '4', '5', '6', '7', '8', '9']\n",
    "character_set = DIGITS\n",
    "characters=[]\n",
    "for i in range(n_letters):\n",
    "    characters.append(np.random.choice(character_set, 1, replace=False))\n",
    "    if i ==n_letters-1:\n",
    "            break\n",
    "    characters.append(pairings[characters[i][0] ])\n",
    "    character_set.remove(pairings[characters[i][0]])\n",
    "    character_set.remove(characters[i][0])\n",
    "print(characters)"
   ]
  },
  {
   "cell_type": "code",
   "execution_count": null,
   "metadata": {},
   "outputs": [],
   "source": []
  },
  {
   "cell_type": "code",
   "execution_count": 32,
   "metadata": {},
   "outputs": [
    {
     "data": {
      "text/plain": [
       "['0', '1', '3', '4', '5', '6', '7', '8', '9']"
      ]
     },
     "execution_count": 32,
     "metadata": {},
     "output_type": "execute_result"
    }
   ],
   "source": []
  },
  {
   "cell_type": "code",
   "execution_count": null,
   "metadata": {},
   "outputs": [],
   "source": [
    "\n",
    "    \n",
    "# Sample characters without replacement\n",
    "characters = np.random.choice(character_set, n_letters, replace=False)\n",
    "    \n",
    "if generalisation_set == False:\n",
    "    while arreq_in_list(characters,g_char_set):\n",
    "        characters = np.random.choice(character_set, n_letters,replace=False)\n",
    "elif generalisation_set == True:\n",
    "    choice_indices = np.random.choice(len(g_char_set), 1, replace=True)\n",
    "    characters = [g_char_set[i] for i in choice_indices]\n",
    "    characters= characters[0]\n",
    "    print(characters)"
   ]
  }
 ],
 "metadata": {
  "kernelspec": {
   "display_name": "Python 3",
   "language": "python",
   "name": "python3"
  },
  "language_info": {
   "codemirror_mode": {
    "name": "ipython",
    "version": 3
   },
   "file_extension": ".py",
   "mimetype": "text/x-python",
   "name": "python",
   "nbconvert_exporter": "python",
   "pygments_lexer": "ipython3",
   "version": "3.7.3"
  }
 },
 "nbformat": 4,
 "nbformat_minor": 4
}
